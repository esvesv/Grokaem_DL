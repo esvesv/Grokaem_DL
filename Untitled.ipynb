{
 "cells": [
  {
   "cell_type": "code",
   "execution_count": 1,
   "id": "d831113b",
   "metadata": {},
   "outputs": [],
   "source": [
    "import numpy as np"
   ]
  },
  {
   "cell_type": "code",
   "execution_count": 42,
   "id": "919cdda2",
   "metadata": {},
   "outputs": [],
   "source": [
    "np.random.seed(1)\n",
    "\n",
    "goals = np.ones((1, 3)) * 240\n",
    "layer_0 = np.ones((1, 5))\n",
    "weights_0_1 = np.ones((5, 10)) * 2\n",
    "weights_1_2 = np.ones((10, 3)) * 2\n",
    "layer_1 = layer_0.dot(weights_0_1)\n",
    "layer_2 = layer_1.dot(weights_1_2)\n",
    "layer_2_delta = layer_2 - goals\n",
    "layer_1_delta = layer_2_delta.dot(weights_1_2.T)"
   ]
  },
  {
   "cell_type": "code",
   "execution_count": 43,
   "id": "5b6a193b",
   "metadata": {},
   "outputs": [
    {
     "name": "stdout",
     "output_type": "stream",
     "text": [
      "weights_0_1\n",
      "[[2. 2. 2. 2. 2. 2. 2. 2. 2. 2.]\n",
      " [2. 2. 2. 2. 2. 2. 2. 2. 2. 2.]\n",
      " [2. 2. 2. 2. 2. 2. 2. 2. 2. 2.]\n",
      " [2. 2. 2. 2. 2. 2. 2. 2. 2. 2.]\n",
      " [2. 2. 2. 2. 2. 2. 2. 2. 2. 2.]]\n",
      "\n",
      "weights_1_2\n",
      "[[2. 2. 2.]\n",
      " [2. 2. 2.]\n",
      " [2. 2. 2.]\n",
      " [2. 2. 2.]\n",
      " [2. 2. 2.]\n",
      " [2. 2. 2.]\n",
      " [2. 2. 2.]\n",
      " [2. 2. 2.]\n",
      " [2. 2. 2.]\n",
      " [2. 2. 2.]]\n",
      "\n",
      "layer_0\n",
      "[[1. 1. 1. 1. 1.]]\n",
      "\n",
      "layer_1\n",
      "[[10. 10. 10. 10. 10. 10. 10. 10. 10. 10.]]\n",
      "\n",
      "layer_2\n",
      "[[200. 200. 200.]]\n",
      "\n",
      "goals\n",
      "[[240. 240. 240.]]\n",
      "\n",
      "layer_2_delta\n",
      "[[-40. -40. -40.]]\n",
      "layer_1_delta\n",
      "[[-240. -240. -240. -240. -240. -240. -240. -240. -240. -240.]]\n"
     ]
    }
   ],
   "source": [
    "print('weights_0_1', weights_0_1, sep='\\n')\n",
    "print()\n",
    "print('weights_1_2', weights_1_2, sep='\\n')\n",
    "print()\n",
    "print('layer_0', layer_0, sep='\\n')\n",
    "print()\n",
    "print('layer_1', layer_1, sep='\\n')\n",
    "print()\n",
    "print('layer_2', layer_2, sep='\\n')\n",
    "print()\n",
    "print('goals', goals, sep='\\n')\n",
    "print()\n",
    "print('layer_2_delta', layer_2_delta, sep='\\n')\n",
    "print('layer_1_delta', layer_1_delta, sep='\\n')"
   ]
  },
  {
   "cell_type": "code",
   "execution_count": 46,
   "id": "bb747a15",
   "metadata": {},
   "outputs": [
    {
     "data": {
      "text/plain": [
       "array([[402., 402., 402.],\n",
       "       [402., 402., 402.],\n",
       "       [402., 402., 402.],\n",
       "       [402., 402., 402.],\n",
       "       [402., 402., 402.],\n",
       "       [402., 402., 402.],\n",
       "       [402., 402., 402.],\n",
       "       [402., 402., 402.],\n",
       "       [402., 402., 402.],\n",
       "       [402., 402., 402.]])"
      ]
     },
     "execution_count": 46,
     "metadata": {},
     "output_type": "execute_result"
    }
   ],
   "source": [
    "weights_1_2 - layer_1.T.dot(layer_2_delta)"
   ]
  },
  {
   "cell_type": "code",
   "execution_count": null,
   "id": "bad703ea",
   "metadata": {},
   "outputs": [],
   "source": []
  }
 ],
 "metadata": {
  "kernelspec": {
   "display_name": "Python 3 (ipykernel)",
   "language": "python",
   "name": "python3"
  },
  "language_info": {
   "codemirror_mode": {
    "name": "ipython",
    "version": 3
   },
   "file_extension": ".py",
   "mimetype": "text/x-python",
   "name": "python",
   "nbconvert_exporter": "python",
   "pygments_lexer": "ipython3",
   "version": "3.9.12"
  }
 },
 "nbformat": 4,
 "nbformat_minor": 5
}
