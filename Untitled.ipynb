{
 "cells": [
  {
   "cell_type": "markdown",
   "id": "eef573e1",
   "metadata": {},
   "source": [
    "Первая нейронная сеть, один вход и один выход. В качестве входного значения берется number_of_toes[0], а в качестве веса одно единственное значение weight."
   ]
  },
  {
   "cell_type": "code",
   "execution_count": 1,
   "id": "09550790",
   "metadata": {},
   "outputs": [],
   "source": [
    "weight = 0.1\n",
    "def neural_network(input_, weight):\n",
    "    prediction = input_ * weight\n",
    "    return prediction"
   ]
  },
  {
   "cell_type": "code",
   "execution_count": 2,
   "id": "016cec1e",
   "metadata": {},
   "outputs": [
    {
     "name": "stdout",
     "output_type": "stream",
     "text": [
      "0.85\n"
     ]
    }
   ],
   "source": [
    "number_of_toes = [8.5, 9.5, 10, 9]\n",
    "input_ = number_of_toes[0]\n",
    "pred = neural_network(input_, weight)\n",
    "print(f'{pred:.2f}')"
   ]
  },
  {
   "cell_type": "markdown",
   "id": "c4379190",
   "metadata": {},
   "source": [
    "Чистая нейронная сеть с несколькими входами. Три входа, соответственно и три веса, но набор весов (сосоящий из трех) по-прежнему один, так как один выход. Функция w_sum (здесь не описана) выполняет взвешенное суммирование входов и весов."
   ]
  },
  {
   "cell_type": "code",
   "execution_count": 3,
   "id": "bea5ce6d",
   "metadata": {},
   "outputs": [],
   "source": [
    "weights = [0.1, 0.2, 0]\n",
    "def neural_network(input_, weight):\n",
    "    pred = w_sum(input_, weight)\n",
    "    return pred"
   ]
  },
  {
   "cell_type": "markdown",
   "id": "455f0e7e",
   "metadata": {},
   "source": [
    "Попытка самостоятельно написать функции операций над векторами:"
   ]
  },
  {
   "cell_type": "code",
   "execution_count": 4,
   "id": "91258339",
   "metadata": {},
   "outputs": [],
   "source": [
    "def elementwise_multiplication(vec_a, vec_b):\n",
    "    assert(len(vec_a) == len(vec_b))\n",
    "    return [a * b for a, b in zip(vec_a, vec_b)]\n",
    "\n",
    "def elementwise_addition(vec_a, vec_b):\n",
    "    assert(len(vec_a == len(vec_b)))\n",
    "    return [a + b for a, b in zip(vec_a, vec_b)]\n",
    "\n",
    "def vector_sum(vec_a):\n",
    "    return sum(vec_a)\n",
    "\n",
    "def vector_average(vec_a):\n",
    "    return (sum(vec_a) / len(vec_a))"
   ]
  },
  {
   "cell_type": "code",
   "execution_count": 5,
   "id": "b87bb25c",
   "metadata": {},
   "outputs": [],
   "source": [
    "toes = [8.5, 9.5, 9.9, 9.0]\n",
    "wlrec = [0.65, 0.8, 0.8, 0.9]\n",
    "nfans = [1.2, 1.3, 0.5, 1.0]\n",
    "\n",
    "def w_sum(a, b):\n",
    "    return (vector_sum(elementwise_multiplication(a, b)))"
   ]
  },
  {
   "cell_type": "code",
   "execution_count": 6,
   "id": "4877acdb",
   "metadata": {},
   "outputs": [
    {
     "data": {
      "text/plain": [
       "0.9800000000000001"
      ]
     },
     "execution_count": 6,
     "metadata": {},
     "output_type": "execute_result"
    }
   ],
   "source": [
    "input_ = [toes[0], wlrec[0], nfans[0]] # первая игра сезона\n",
    "neural_network(input_, weights)"
   ]
  },
  {
   "cell_type": "markdown",
   "id": "5225f10d",
   "metadata": {},
   "source": [
    "То же самое с использование библиотеки numpy"
   ]
  },
  {
   "cell_type": "code",
   "execution_count": 7,
   "id": "20b0326a",
   "metadata": {},
   "outputs": [
    {
     "name": "stdout",
     "output_type": "stream",
     "text": [
      "0.9800000000000001\n"
     ]
    }
   ],
   "source": [
    "import numpy as np\n",
    "\n",
    "weights = np.array([0.1, 0.2, 0])\n",
    "def neural_network(input_, weight):\n",
    "    pred = input_.dot(weight)\n",
    "    return pred\n",
    "\n",
    "toes = np.array([8.5, 9.5, 9.9, 9.0])\n",
    "wlrec = np.array([0.65, 0.8, 0.8, 0.9])\n",
    "nfans = np.array([1.2, 1.3, 0.5, 1.0])\n",
    "\n",
    "input_ = np.array([toes[0], wlrec[0], nfans[0]]) # первая игра сезона\n",
    "pred = neural_network(input_, weights)\n",
    "print(pred)"
   ]
  },
  {
   "cell_type": "markdown",
   "id": "755b1f47",
   "metadata": {},
   "source": [
    "Сеть с одним входом и несколькими выходами действует так как если бы состояла из нескольких независимых сетей (в нашем случае трех)."
   ]
  },
  {
   "cell_type": "code",
   "execution_count": 69,
   "id": "01025322",
   "metadata": {},
   "outputs": [
    {
     "name": "stdout",
     "output_type": "stream",
     "text": [
      "[0.195 0.13  0.585]\n"
     ]
    }
   ],
   "source": [
    "import numpy as np\n",
    "\n",
    "def neural_network(input_, weight):\n",
    "    pred = input_.dot(weight)\n",
    "    return pred\n",
    "\n",
    "weights = np.array([[0.3, 0.2, 0.9]])\n",
    "wlrec = np.array([[0.65], [0.8], [0.8], [0.9]])\n",
    "\n",
    "input_ = wlrec[0]\n",
    "pred = neural_network(input_, weights)\n",
    "print(pred)"
   ]
  },
  {
   "cell_type": "markdown",
   "id": "83d1f616",
   "metadata": {},
   "source": [
    "Сеть с несколькими входами и выходами (3 входа и 3 выхода)"
   ]
  },
  {
   "cell_type": "code",
   "execution_count": 90,
   "id": "bcb0fd36",
   "metadata": {},
   "outputs": [],
   "source": [
    "# Так как 3 входа, поэтому 3 строки, т.к 3 выхода - поэтому 3 столбца\n",
    "\n",
    "weights = np.array([\n",
    "                    [0.1, 0.1, -0.3], # травмы\n",
    "                    [0.1, 0.2,  0.0],  # победа\n",
    "                    [0.0, 1.3,  0.1]   # печаль\n",
    "])"
   ]
  },
  {
   "cell_type": "code",
   "execution_count": 91,
   "id": "fbf358a6",
   "metadata": {},
   "outputs": [],
   "source": [
    "toes = np.array([8.5, 9.5, 9.9, 9.0])\n",
    "wlrec = np.array([0.65, 0.8, 0.8, 0.9])\n",
    "nfans = np.array([1.2, 1.3, 0.5, 1.0])"
   ]
  },
  {
   "cell_type": "code",
   "execution_count": 92,
   "id": "c61cf9bf",
   "metadata": {},
   "outputs": [],
   "source": [
    "def neural_network(input_, weights):\n",
    "    return input_.dot(weights)"
   ]
  },
  {
   "cell_type": "code",
   "execution_count": 99,
   "id": "b961b77b",
   "metadata": {},
   "outputs": [
    {
     "name": "stdout",
     "output_type": "stream",
     "text": [
      "[0.555 0.98  0.965]\n"
     ]
    }
   ],
   "source": [
    "input_ = np.array([toes[0], wlrec[0], nfans[0]]) # первая игра\n",
    "pred = input_.dot(weights.T)\n",
    "print(pred)                                          # предсказание трех параметров на основании входных данных первой игры"
   ]
  },
  {
   "cell_type": "markdown",
   "id": "dda89277",
   "metadata": {},
   "source": [
    "## Нейронная сеть со скрытым слоем"
   ]
  },
  {
   "cell_type": "code",
   "execution_count": 109,
   "id": "607eb5a9",
   "metadata": {},
   "outputs": [],
   "source": [
    "ih_wgt = np.array(\n",
    "                    [\n",
    "                        [0.1, 0.2, -0.1],\n",
    "                        [-0.1, 0.1, 0.9],\n",
    "                        [0.1, 0.4, 0.1]\n",
    "                    ]).T\n",
    "\n",
    "hp_wgt = np.array(\n",
    "                    [\n",
    "                        [0.3, 1.1, -0.3],\n",
    "                        [0.1, 0.2, 0.0],\n",
    "                        [0.0, 1.3, 0.1]\n",
    "                    ]).T\n",
    "weights = [ih_wgt, hp_wgt]\n",
    "\n",
    "def neural_network(input_, weights):\n",
    "    hid = input_.dot(weights[0])\n",
    "    pred = hid.dot(weights[1])\n",
    "    return pred"
   ]
  },
  {
   "cell_type": "code",
   "execution_count": 110,
   "id": "253927af",
   "metadata": {},
   "outputs": [
    {
     "name": "stdout",
     "output_type": "stream",
     "text": [
      "[0.2135 0.145  0.5065]\n"
     ]
    }
   ],
   "source": [
    "toes = np.array([8.5, 9.5, 9.9, 9.0])\n",
    "wlrec = np.array([0.65, 0.8, 0.8, 0.9])\n",
    "nfans = np.array([1.2, 1.3, 0.5, 1.0])\n",
    "\n",
    "input_ = np.array([toes[0], wlrec[0], nfans[0]])\n",
    "pred = neural_network(input_, weights)\n",
    "print(pred)"
   ]
  },
  {
   "cell_type": "code",
   "execution_count": null,
   "id": "fec65a3f",
   "metadata": {},
   "outputs": [],
   "source": []
  }
 ],
 "metadata": {
  "kernelspec": {
   "display_name": "Python 3 (ipykernel)",
   "language": "python",
   "name": "python3"
  },
  "language_info": {
   "codemirror_mode": {
    "name": "ipython",
    "version": 3
   },
   "file_extension": ".py",
   "mimetype": "text/x-python",
   "name": "python",
   "nbconvert_exporter": "python",
   "pygments_lexer": "ipython3",
   "version": "3.9.12"
  }
 },
 "nbformat": 4,
 "nbformat_minor": 5
}
