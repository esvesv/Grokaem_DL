{
 "cells": [
  {
   "cell_type": "code",
   "execution_count": 19,
   "id": "0fb81a9b",
   "metadata": {},
   "outputs": [],
   "source": [
    "goal = 5\n",
    "weight = 0.1\n",
    "weight_1_2 = 0.1\n",
    "inputs = 2\n",
    "lr = 0.1"
   ]
  },
  {
   "cell_type": "code",
   "execution_count": 20,
   "id": "e89899ef",
   "metadata": {},
   "outputs": [
    {
     "name": "stdout",
     "output_type": "stream",
     "text": [
      "Error: 0.0023399414016403246 Prediction: 4.9516270592\n",
      "Error: 8.555196504833894e-08 Prediction: 4.999707507324795\n",
      "Error: 3.1279153909172382e-12 Prediction: 4.999998231408642\n",
      "Error: 1.1436154854504887e-16 Prediction: 4.999999989306004\n",
      "Error: 4.181181161469676e-21 Prediction: 4.999999999935338\n",
      "Error: 1.5272347125078789e-25 Prediction: 4.999999999999609\n",
      "Error: 3.1554436208840472e-30 Prediction: 4.999999999999998\n",
      "Error: 7.888609052210118e-31 Prediction: 4.999999999999999\n",
      "Error: 7.888609052210118e-31 Prediction: 4.999999999999999\n",
      "Error: 7.888609052210118e-31 Prediction: 4.999999999999999\n"
     ]
    }
   ],
   "source": [
    "for i in range(100):\n",
    "    pred = inputs * weight\n",
    "    delta = pred - goal\n",
    "    weight_delta = delta * inputs\n",
    "    weight -= lr * weight_delta\n",
    "    error = delta ** 2\n",
    "    if i % 10 == 9:\n",
    "        print(f'Error: {error} Prediction: {pred}')"
   ]
  },
  {
   "cell_type": "code",
   "execution_count": 21,
   "id": "db389d9e",
   "metadata": {},
   "outputs": [
    {
     "data": {
      "text/plain": [
       "2.4999999999999996"
      ]
     },
     "execution_count": 21,
     "metadata": {},
     "output_type": "execute_result"
    }
   ],
   "source": [
    "weight"
   ]
  },
  {
   "cell_type": "code",
   "execution_count": null,
   "id": "8b3d6a9f",
   "metadata": {},
   "outputs": [],
   "source": []
  },
  {
   "cell_type": "code",
   "execution_count": 108,
   "id": "c520979b",
   "metadata": {},
   "outputs": [
    {
     "name": "stdout",
     "output_type": "stream",
     "text": [
      "35 50 96\n",
      "Error: 1572.50 Prediction: 19.24 21.77 40.36\n",
      "Error: 49.23 Prediction: 45.90 20.32 70.44\n",
      "Error: 11.77 Prediction: 39.90 19.24 72.80\n",
      "Error: 5.98 Prediction: 41.25 18.43 72.98\n",
      "Error: 3.33 Prediction: 40.94 17.82 73.00\n",
      "Error: 1.87 Prediction: 41.01 17.37 73.00\n",
      "Error: 1.05 Prediction: 41.00 17.03 73.00\n",
      "Error: 0.59 Prediction: 41.00 16.77 73.00\n",
      "Error: 0.33 Prediction: 41.00 16.58 73.00\n",
      "Error: 0.19 Prediction: 41.00 16.43 73.00\n",
      "Error: 0.11 Prediction: 41.00 16.32 73.00\n",
      "Error: 0.06 Prediction: 41.00 16.24 73.00\n",
      "Error: 0.03 Prediction: 41.00 16.18 73.00\n",
      "Error: 0.02 Prediction: 41.00 16.14 73.00\n",
      "Error: 0.01 Prediction: 41.00 16.10 73.00\n",
      "Error: 0.01 Prediction: 41.00 16.08 73.00\n",
      "Error: 0.00 Prediction: 41.00 16.06 73.00\n",
      "Error: 0.00 Prediction: 41.00 16.04 73.00\n",
      "Error: 0.00 Prediction: 41.00 16.03 73.00\n",
      "Error: 0.00 Prediction: 41.00 16.02 73.00\n",
      "Error: 0.00 Prediction: 41.00 16.02 73.00\n",
      "Error: 0.00 Prediction: 41.00 16.01 73.00\n",
      "Error: 0.00 Prediction: 41.00 16.01 73.00\n",
      "Error: 0.00 Prediction: 41.00 16.01 73.00\n",
      "Error: 0.00 Prediction: 41.00 16.01 73.00\n",
      "Error: 0.00 Prediction: 41.00 16.00 73.00\n",
      "Error: 0.00 Prediction: 41.00 16.00 73.00\n",
      "Error: 0.00 Prediction: 41.00 16.00 73.00\n",
      "Error: 0.00 Prediction: 41.00 16.00 73.00\n",
      "Error: 0.00 Prediction: 41.00 16.00 73.00\n",
      "\n",
      "[41 16 73]\n"
     ]
    }
   ],
   "source": [
    "import numpy as np\n",
    "np.random.seed(2)\n",
    "goal = np.random.randint(1, 100, 3)\n",
    "weight = np.random.random(3)# * 2 - 1\n",
    "inputs = np.random.randint(1, 100, 3)\n",
    "lr = np.array([0.001, 0.0001, 0.0001])\n",
    "\n",
    "print(*inputs)\n",
    "\n",
    "for i in range(30):\n",
    "    pred = inputs * weight\n",
    "    delta = pred - goal\n",
    "    error = sum(delta ** 2)\n",
    "    weight_delta = delta * inputs\n",
    "    weight -= lr * weight_delta\n",
    "    \n",
    "#     if i % 10 == 9:\n",
    "    print(f'Error: {error:.2f} Prediction: {pred[0]:.2f} {pred[1]:.2f} {pred[2]:.2f}')\n",
    "print()\n",
    "print(goal)"
   ]
  },
  {
   "cell_type": "code",
   "execution_count": 109,
   "id": "3c584c08",
   "metadata": {},
   "outputs": [
    {
     "data": {
      "text/plain": [
       "array([35, 50, 96])"
      ]
     },
     "execution_count": 109,
     "metadata": {},
     "output_type": "execute_result"
    }
   ],
   "source": [
    "inputs"
   ]
  },
  {
   "cell_type": "code",
   "execution_count": 110,
   "id": "79333db7",
   "metadata": {},
   "outputs": [
    {
     "data": {
      "text/plain": [
       "array([1.17142857, 0.32002059, 0.76041667])"
      ]
     },
     "execution_count": 110,
     "metadata": {},
     "output_type": "execute_result"
    }
   ],
   "source": [
    "weight"
   ]
  },
  {
   "cell_type": "code",
   "execution_count": null,
   "id": "3ea03925",
   "metadata": {},
   "outputs": [],
   "source": []
  },
  {
   "cell_type": "code",
   "execution_count": 140,
   "id": "48346c7b",
   "metadata": {},
   "outputs": [
    {
     "name": "stdout",
     "output_type": "stream",
     "text": [
      "Error: 2153.07 Prediction: 12.61 28.04 37.19\n",
      "Error: 1341.91 Prediction: 18.21 13.21 42.18\n",
      "Error: 942.11 Prediction: 22.57 13.00 46.47\n",
      "Error: 666.37 Prediction: 25.97 13.00 50.16\n",
      "Error: 474.49 Prediction: 28.62 13.00 53.34\n",
      "Error: 339.87 Prediction: 30.69 13.00 56.08\n",
      "Error: 244.72 Prediction: 32.30 13.00 58.43\n",
      "Error: 177.00 Prediction: 33.56 13.00 60.46\n",
      "Error: 128.52 Prediction: 34.54 13.00 62.21\n",
      "Error: 93.63 Prediction: 35.30 13.00 63.71\n",
      "Error: 68.41 Prediction: 35.89 13.00 65.00\n",
      "Error: 50.10 Prediction: 36.36 13.00 66.11\n",
      "Error: 36.76 Prediction: 36.72 13.00 67.07\n",
      "Error: 27.02 Prediction: 37.00 13.00 67.90\n",
      "Error: 19.89 Prediction: 37.22 13.00 68.61\n",
      "Error: 14.66 Prediction: 37.39 13.00 69.22\n",
      "Error: 10.81 Prediction: 37.53 13.00 69.75\n",
      "Error: 7.98 Prediction: 37.63 13.00 70.20\n",
      "Error: 5.90 Prediction: 37.71 13.00 70.59\n",
      "Error: 4.36 Prediction: 37.78 13.00 70.92\n",
      "Error: 3.22 Prediction: 37.83 13.00 71.21\n",
      "Error: 2.38 Prediction: 37.86 13.00 71.46\n",
      "Error: 1.76 Prediction: 37.89 13.00 71.68\n",
      "Error: 1.31 Prediction: 37.92 13.00 71.86\n",
      "Error: 0.97 Prediction: 37.94 13.00 72.02\n",
      "Error: 0.72 Prediction: 37.95 13.00 72.16\n",
      "Error: 0.53 Prediction: 37.96 13.00 72.27\n",
      "Error: 0.39 Prediction: 37.97 13.00 72.37\n",
      "Error: 0.29 Prediction: 37.98 13.00 72.46\n",
      "Error: 0.22 Prediction: 37.98 13.00 72.54\n",
      "Error: 0.16 Prediction: 37.99 13.00 72.60\n",
      "Error: 0.12 Prediction: 37.99 13.00 72.66\n",
      "Error: 0.09 Prediction: 37.99 13.00 72.70\n",
      "Error: 0.06 Prediction: 37.99 13.00 72.75\n",
      "Error: 0.05 Prediction: 37.99 13.00 72.78\n",
      "Error: 0.04 Prediction: 38.00 13.00 72.81\n",
      "Error: 0.03 Prediction: 38.00 13.00 72.84\n",
      "Error: 0.02 Prediction: 38.00 13.00 72.86\n",
      "Error: 0.01 Prediction: 38.00 13.00 72.88\n",
      "Error: 0.01 Prediction: 38.00 13.00 72.90\n",
      "Error: 0.01 Prediction: 38.00 13.00 72.91\n",
      "Error: 0.01 Prediction: 38.00 13.00 72.92\n",
      "Error: 0.00 Prediction: 38.00 13.00 72.93\n",
      "Error: 0.00 Prediction: 38.00 13.00 72.94\n",
      "Error: 0.00 Prediction: 38.00 13.00 72.95\n",
      "Error: 0.00 Prediction: 38.00 13.00 72.96\n",
      "Error: 0.00 Prediction: 38.00 13.00 72.96\n",
      "Error: 0.00 Prediction: 38.00 13.00 72.97\n",
      "Error: 0.00 Prediction: 38.00 13.00 72.97\n",
      "Error: 0.00 Prediction: 38.00 13.00 72.98\n",
      "Error: 0.00 Prediction: 38.00 13.00 72.98\n",
      "Error: 0.00 Prediction: 38.00 13.00 72.98\n",
      "Error: 0.00 Prediction: 38.00 13.00 72.99\n",
      "Error: 0.00 Prediction: 38.00 13.00 72.99\n",
      "Error: 0.00 Prediction: 38.00 13.00 72.99\n",
      "Error: 0.00 Prediction: 38.00 13.00 72.99\n",
      "Error: 0.00 Prediction: 38.00 13.00 72.99\n",
      "Error: 0.00 Prediction: 38.00 13.00 72.99\n",
      "Error: 0.00 Prediction: 38.00 13.00 72.99\n",
      "Error: 0.00 Prediction: 38.00 13.00 72.99\n",
      "Error: 0.00 Prediction: 38.00 13.00 73.00\n",
      "Error: 0.00 Prediction: 38.00 13.00 73.00\n",
      "Error: 0.00 Prediction: 38.00 13.00 73.00\n",
      "Error: 0.00 Prediction: 38.00 13.00 73.00\n",
      "Error: 0.00 Prediction: 38.00 13.00 73.00\n",
      "Error: 0.00 Prediction: 38.00 13.00 73.00\n",
      "Error: 0.00 Prediction: 38.00 13.00 73.00\n",
      "Error: 0.00 Prediction: 38.00 13.00 73.00\n",
      "Error: 0.00 Prediction: 38.00 13.00 73.00\n",
      "Error: 0.00 Prediction: 38.00 13.00 73.00\n"
     ]
    }
   ],
   "source": [
    "import numpy as np\n",
    "np.random.seed(1)\n",
    "goal = np.random.randint(1, 100, 3)\n",
    "weights = np.random.random((3, 3))# * 2 - 1\n",
    "inputs = np.random.randint(1, 100, 3)\n",
    "lr = 0.0001\n",
    "\n",
    "for i in range(70):\n",
    "    pred = inputs.dot(weights)\n",
    "    delta = pred - goal\n",
    "    error = sum(delta ** 2)\n",
    "    weights_delta = inputs * delta\n",
    "    weights -= lr * weights_delta\n",
    "    print(f'Error: {error:.2f} Prediction: {pred[0]:.2f} {pred[1]:.2f} {pred[2]:.2f}')"
   ]
  },
  {
   "cell_type": "code",
   "execution_count": 141,
   "id": "de56922a",
   "metadata": {},
   "outputs": [
    {
     "data": {
      "text/plain": [
       "array([[0.21897503, 0.17265811, 0.45544252],\n",
       "       [0.31119925, 0.05658575, 0.65424735],\n",
       "       [0.61562813, 0.40914227, 0.72788114]])"
      ]
     },
     "execution_count": 141,
     "metadata": {},
     "output_type": "execute_result"
    }
   ],
   "source": [
    "weights"
   ]
  },
  {
   "cell_type": "code",
   "execution_count": 135,
   "id": "7f9fc48c",
   "metadata": {},
   "outputs": [
    {
     "data": {
      "text/plain": [
       "array([38, 13, 73])"
      ]
     },
     "execution_count": 135,
     "metadata": {},
     "output_type": "execute_result"
    }
   ],
   "source": [
    "goal"
   ]
  },
  {
   "cell_type": "code",
   "execution_count": 142,
   "id": "9e9c25f0",
   "metadata": {},
   "outputs": [
    {
     "data": {
      "text/plain": [
       "array([19, 85, 12])"
      ]
     },
     "execution_count": 142,
     "metadata": {},
     "output_type": "execute_result"
    }
   ],
   "source": [
    "inputs"
   ]
  },
  {
   "cell_type": "code",
   "execution_count": null,
   "id": "2f196e70",
   "metadata": {},
   "outputs": [],
   "source": []
  },
  {
   "cell_type": "code",
   "execution_count": 19,
   "id": "fbdb047b",
   "metadata": {},
   "outputs": [
    {
     "name": "stdout",
     "output_type": "stream",
     "text": [
      "Error: [22.09] Prediction: [[0.3]]\n",
      "Error: [20.784481] Prediction: [[0.441]]\n",
      "Error: [18.99171164] Prediction: [[0.6420519]]\n",
      "Error: [16.63126839] Prediction: [[0.92185479]]\n",
      "Error: [13.70628074] Prediction: [[1.29780055]]\n",
      "Error: [10.37953] Prediction: [[1.7782722]]\n",
      "Error: [7.01623096] Prediction: [[2.3511831]]\n",
      "Error: [4.10480382] Prediction: [[2.97396846]]\n",
      "Error: [2.0263413] Prediction: [[3.57650385]]\n",
      "Error: [0.83609482] Prediction: [[4.08561779]]\n",
      "Error: [0.29246527] Prediction: [[4.45919941]]\n",
      "Error: [0.08978822] Prediction: [[4.70035318]]\n",
      "Error: [0.02521815] Prediction: [[4.84119777]]\n",
      "Error: [0.00671137] Prediction: [[4.91807707]]\n",
      "Error: [0.00173327] Prediction: [[4.9583674]]\n",
      "Error: [0.00044056] Prediction: [[4.97901037]]\n",
      "Error: [0.00011107] Prediction: [[4.98946113]]\n",
      "Error: [2.78841249e-05] Prediction: [[4.99471946]]\n",
      "Error: [6.98576333e-06] Prediction: [[4.99735694]]\n",
      "Error: [1.7482877e-06] Prediction: [[4.99867777]]\n",
      "Error: [4.37303119e-07] Prediction: [[4.99933871]]\n",
      "Error: [1.093547e-07] Prediction: [[4.99966931]]\n",
      "Error: [2.73422913e-08] Prediction: [[4.99983464]]\n",
      "Error: [6.83602496e-09] Prediction: [[4.99991732]]\n",
      "Error: [1.70906276e-09] Prediction: [[4.99995866]]\n",
      "Error: [4.27272756e-10] Prediction: [[4.99997933]]\n",
      "Error: [1.06819072e-10] Prediction: [[4.99998966]]\n",
      "Error: [2.67048784e-11] Prediction: [[4.99999483]]\n",
      "Error: [6.67623341e-12] Prediction: [[4.99999742]]\n",
      "Error: [1.66906008e-12] Prediction: [[4.99999871]]\n",
      "Error: [4.17265235e-13] Prediction: [[4.99999935]]\n",
      "Error: [1.04316336e-13] Prediction: [[4.99999968]]\n",
      "Error: [2.60790872e-14] Prediction: [[4.99999984]]\n",
      "Error: [6.51977224e-15] Prediction: [[4.99999992]]\n",
      "Error: [1.62994313e-15] Prediction: [[4.99999996]]\n",
      "Error: [4.07485801e-16] Prediction: [[4.99999998]]\n",
      "Error: [1.0187145e-16] Prediction: [[4.99999999]]\n",
      "Error: [2.54678626e-17] Prediction: [[4.99999999]]\n",
      "Error: [6.36696564e-18] Prediction: [[5.]]\n",
      "Error: [1.59174141e-18] Prediction: [[5.]]\n"
     ]
    }
   ],
   "source": [
    "import numpy as np\n",
    "\n",
    "lr = 0.1\n",
    "goal = 5\n",
    "inputs = np.array([[1, 1]])\n",
    "weight = np.array([[0.2],\n",
    "                  [0.1]\n",
    "                  ])\n",
    "\n",
    "for i in range(40):\n",
    "    pred = inputs.dot(weight)\n",
    "    error = (sum(pred) - goal) ** 2\n",
    "    delta = sum(pred) - goal\n",
    "    weight_delta = delta * weight\n",
    "    weight -= lr * inputs.T * weight_delta\n",
    "    print(f'Error: {error} Prediction: {pred}')"
   ]
  },
  {
   "cell_type": "code",
   "execution_count": 15,
   "id": "d81b5d07",
   "metadata": {},
   "outputs": [
    {
     "data": {
      "text/plain": [
       "array([[1.42853128],\n",
       "       [3.57132821]])"
      ]
     },
     "execution_count": 15,
     "metadata": {},
     "output_type": "execute_result"
    }
   ],
   "source": [
    "weight"
   ]
  },
  {
   "cell_type": "code",
   "execution_count": 20,
   "id": "0b069c6e",
   "metadata": {
    "scrolled": true
   },
   "outputs": [
    {
     "data": {
      "text/plain": [
       "array([[3.33333333],\n",
       "       [1.66666667]])"
      ]
     },
     "execution_count": 20,
     "metadata": {},
     "output_type": "execute_result"
    }
   ],
   "source": [
    "weight"
   ]
  },
  {
   "cell_type": "code",
   "execution_count": 5,
   "id": "9026c953",
   "metadata": {},
   "outputs": [
    {
     "data": {
      "text/plain": [
       "array([[0.7]])"
      ]
     },
     "execution_count": 5,
     "metadata": {},
     "output_type": "execute_result"
    }
   ],
   "source": [
    "inputs.dot(weight)"
   ]
  },
  {
   "cell_type": "code",
   "execution_count": null,
   "id": "77af500c",
   "metadata": {},
   "outputs": [],
   "source": []
  }
 ],
 "metadata": {
  "kernelspec": {
   "display_name": "Python 3 (ipykernel)",
   "language": "python",
   "name": "python3"
  },
  "language_info": {
   "codemirror_mode": {
    "name": "ipython",
    "version": 3
   },
   "file_extension": ".py",
   "mimetype": "text/x-python",
   "name": "python",
   "nbconvert_exporter": "python",
   "pygments_lexer": "ipython3",
   "version": "3.9.12"
  }
 },
 "nbformat": 4,
 "nbformat_minor": 5
}
