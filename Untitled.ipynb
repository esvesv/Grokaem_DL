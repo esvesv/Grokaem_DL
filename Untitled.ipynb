{
 "cells": [
  {
   "cell_type": "code",
   "execution_count": 1,
   "id": "d831113b",
   "metadata": {},
   "outputs": [],
   "source": [
    "import sys, numpy as np\n",
    "from keras.datasets import mnist\n",
    "import matplotlib.pyplot as plt\n",
    "%matplotlib inline\n",
    "\n",
    "(x_train, y_train), (x_test, y_test) = mnist.load_data()"
   ]
  },
  {
   "cell_type": "code",
   "execution_count": 2,
   "id": "3b589689",
   "metadata": {},
   "outputs": [],
   "source": [
    "relu = lambda x: (x > 0) * x\n",
    "sigmoid = lambda x: 1 / (1 + np.exp(-x))\n",
    "tanh = lambda x: np.tanh(x)"
   ]
  },
  {
   "cell_type": "code",
   "execution_count": 3,
   "id": "9c8858cd",
   "metadata": {},
   "outputs": [],
   "source": [
    "import json\n",
    "import pickle"
   ]
  },
  {
   "cell_type": "code",
   "execution_count": 4,
   "id": "196bffd2",
   "metadata": {},
   "outputs": [
    {
     "data": {
      "text/plain": [
       "(60000, 28, 28)"
      ]
     },
     "execution_count": 4,
     "metadata": {},
     "output_type": "execute_result"
    }
   ],
   "source": [
    "x_train.shape"
   ]
  },
  {
   "cell_type": "code",
   "execution_count": 5,
   "id": "77109506",
   "metadata": {
    "scrolled": true
   },
   "outputs": [],
   "source": [
    "# fig = plt.figure(figsize=(10, 8))\n",
    "images = x_train#[:1000]\n",
    "# ax = fig.add_axes([1, 1, 1, 1])\n",
    "# ax.imshow(image, cmap='Greys', interpolation='None')\n",
    "# ax.grid()"
   ]
  },
  {
   "cell_type": "code",
   "execution_count": 6,
   "id": "2c9097a6",
   "metadata": {},
   "outputs": [],
   "source": [
    "size_batch = images.shape[0]"
   ]
  },
  {
   "cell_type": "code",
   "execution_count": 7,
   "id": "8e2423a5",
   "metadata": {},
   "outputs": [],
   "source": [
    "width, height = 3, 3\n",
    "kernel_width = images.shape[2] - width\n",
    "kernel_height = images.shape[1] - height\n",
    "num_kernels = 4"
   ]
  },
  {
   "cell_type": "code",
   "execution_count": 8,
   "id": "04a5d011",
   "metadata": {},
   "outputs": [],
   "source": [
    "# size_batch"
   ]
  },
  {
   "cell_type": "code",
   "execution_count": 103,
   "id": "d6e3bbb2",
   "metadata": {},
   "outputs": [],
   "source": [
    "# inputs_images = []\n",
    "# for image in images:\n",
    "#     image_parts = []\n",
    "#     for i in range(image.shape[0] - height):\n",
    "#         for j in range(image.shape[1] - width):\n",
    "#             image_parts.append(image[i: i + height, j: j + height].reshape(1, -1) / 255)\n",
    "#     inputs_images.append(image_parts)\n",
    "\n",
    "# inputs = np.array(inputs_images)"
   ]
  },
  {
   "cell_type": "code",
   "execution_count": 105,
   "id": "af9e74b9",
   "metadata": {},
   "outputs": [],
   "source": [
    "# inputs = inputs.reshape(size_batch, kernel_width * kernel_height, width * height)"
   ]
  },
  {
   "cell_type": "code",
   "execution_count": 113,
   "id": "1b04e1b5",
   "metadata": {},
   "outputs": [],
   "source": [
    "# with open('inputs.json', 'w', encoding='utf-8') as file:\n",
    "#     json.dump(inputs.tolist(), file, indent=4, ensure_ascii=False)"
   ]
  },
  {
   "cell_type": "code",
   "execution_count": 116,
   "id": "019d3275",
   "metadata": {},
   "outputs": [],
   "source": [
    "# with open('inputs.pkl', 'wb') as file:\n",
    "#     pickle.dump(inputs, file)"
   ]
  },
  {
   "cell_type": "code",
   "execution_count": 10,
   "id": "33edd266",
   "metadata": {},
   "outputs": [],
   "source": [
    "with open('inputs.pkl', 'rb') as file:\n",
    "    inputs = pickle.load(file)"
   ]
  },
  {
   "cell_type": "code",
   "execution_count": 89,
   "id": "8b103804",
   "metadata": {},
   "outputs": [],
   "source": [
    "np.random.seed(1)\n",
    "weights = 0.2 * np.random.random((width * height, num_kernels)) - 0.1"
   ]
  },
  {
   "cell_type": "code",
   "execution_count": 93,
   "id": "9d595ffd",
   "metadata": {
    "scrolled": true
   },
   "outputs": [],
   "source": [
    "cnn = relu(inputs.dot(weights).reshape(size_batch, kernel_width * kernel_height, num_kernels))\n",
    "cnn = np.array([list(map(func, x)) for x in cnn])\n",
    "# cnn = cnn.reshape(size_batch, 25, 25)"
   ]
  },
  {
   "cell_type": "code",
   "execution_count": 94,
   "id": "e54785ed",
   "metadata": {},
   "outputs": [
    {
     "data": {
      "text/plain": [
       "(1000, 625)"
      ]
     },
     "execution_count": 94,
     "metadata": {},
     "output_type": "execute_result"
    }
   ],
   "source": [
    "cnn.shape"
   ]
  },
  {
   "cell_type": "code",
   "execution_count": 92,
   "id": "a0b32902",
   "metadata": {},
   "outputs": [
    {
     "data": {
      "text/plain": [
       "array([[ 0.00000000e+00,  0.00000000e+00,  0.00000000e+00,\n",
       "         0.00000000e+00,  0.00000000e+00,  0.00000000e+00,\n",
       "         0.00000000e+00,  0.00000000e+00,  0.00000000e+00,\n",
       "         0.00000000e+00,  0.00000000e+00,  0.00000000e+00,\n",
       "         0.00000000e+00,  0.00000000e+00,  0.00000000e+00,\n",
       "         0.00000000e+00,  0.00000000e+00,  0.00000000e+00,\n",
       "         0.00000000e+00,  0.00000000e+00,  0.00000000e+00,\n",
       "         0.00000000e+00,  0.00000000e+00,  0.00000000e+00,\n",
       "         0.00000000e+00],\n",
       "       [ 0.00000000e+00,  0.00000000e+00,  0.00000000e+00,\n",
       "         0.00000000e+00,  0.00000000e+00,  0.00000000e+00,\n",
       "         0.00000000e+00,  0.00000000e+00,  0.00000000e+00,\n",
       "         0.00000000e+00,  0.00000000e+00,  0.00000000e+00,\n",
       "         0.00000000e+00,  0.00000000e+00,  0.00000000e+00,\n",
       "         0.00000000e+00,  0.00000000e+00,  0.00000000e+00,\n",
       "         0.00000000e+00,  0.00000000e+00,  0.00000000e+00,\n",
       "         0.00000000e+00,  0.00000000e+00,  0.00000000e+00,\n",
       "         0.00000000e+00],\n",
       "       [ 0.00000000e+00,  0.00000000e+00,  0.00000000e+00,\n",
       "         0.00000000e+00,  0.00000000e+00,  0.00000000e+00,\n",
       "         0.00000000e+00,  0.00000000e+00,  0.00000000e+00,\n",
       "         0.00000000e+00,  0.00000000e+00,  0.00000000e+00,\n",
       "         0.00000000e+00,  0.00000000e+00,  0.00000000e+00,\n",
       "         0.00000000e+00,  0.00000000e+00,  0.00000000e+00,\n",
       "         0.00000000e+00,  0.00000000e+00,  0.00000000e+00,\n",
       "         0.00000000e+00,  0.00000000e+00,  0.00000000e+00,\n",
       "         0.00000000e+00],\n",
       "       [ 0.00000000e+00,  0.00000000e+00,  0.00000000e+00,\n",
       "         0.00000000e+00,  0.00000000e+00,  0.00000000e+00,\n",
       "         0.00000000e+00,  0.00000000e+00,  0.00000000e+00,\n",
       "         0.00000000e+00,  1.07738713e-03,  5.68745318e-03,\n",
       "         6.73518446e-03,  1.13776158e-02,  4.59027711e-02,\n",
       "         4.64779248e-02,  8.38837215e-02,  9.46696014e-02,\n",
       "         1.04543808e-01,  6.39126090e-02,  1.33429702e-01,\n",
       "         1.55480697e-01,  1.14111328e-01,  3.93059186e-02,\n",
       "         0.00000000e+00],\n",
       "       [ 0.00000000e+00,  0.00000000e+00,  0.00000000e+00,\n",
       "         0.00000000e+00,  0.00000000e+00,  0.00000000e+00,\n",
       "         1.07738713e-02,  9.83390224e-03,  3.32919102e-02,\n",
       "         4.30264228e-02,  8.02900824e-02,  1.11411174e-01,\n",
       "         1.42559593e-01,  1.72696153e-01,  2.12360663e-01,\n",
       "         2.21004677e-01,  2.67088720e-01,  2.07444291e-01,\n",
       "         2.41290773e-01,  2.43567580e-01,  3.06829186e-01,\n",
       "         2.68031947e-01,  1.58429831e-01,  5.74711693e-02,\n",
       "         0.00000000e+00],\n",
       "       [ 0.00000000e+00,  0.00000000e+00,  0.00000000e+00,\n",
       "         0.00000000e+00,  0.00000000e+00,  1.75973231e-02,\n",
       "         7.98601849e-02,  1.06935350e-01,  2.00353099e-01,\n",
       "         2.31480557e-01,  2.57410625e-01,  3.05921261e-01,\n",
       "         3.10209251e-01,  3.37416008e-01,  3.40704013e-01,\n",
       "         3.06425115e-01,  3.08091437e-01,  2.24294598e-01,\n",
       "         2.49778885e-01,  1.61867941e-01,  1.55460997e-01,\n",
       "         1.02104558e-01,  7.49222435e-02,  4.09260601e-02,\n",
       "         0.00000000e+00],\n",
       "       [ 0.00000000e+00,  0.00000000e+00,  0.00000000e+00,\n",
       "         0.00000000e+00,  0.00000000e+00,  1.84641509e-02,\n",
       "         1.24519938e-01,  1.87012249e-01,  3.21076927e-01,\n",
       "         3.20367106e-01,  3.11692756e-01,  3.19472110e-01,\n",
       "         2.94268349e-01,  2.91882820e-01,  2.71806033e-01,\n",
       "         2.85241359e-01,  2.38337961e-01,  1.60437682e-01,\n",
       "         5.30594665e-02,  4.85644779e-03,  1.34994208e-02,\n",
       "        -0.00000000e+00,  2.47996285e-02,  1.10594256e-02,\n",
       "         0.00000000e+00],\n",
       "       [ 0.00000000e+00,  0.00000000e+00,  0.00000000e+00,\n",
       "         0.00000000e+00,  0.00000000e+00,  9.83338243e-03,\n",
       "         7.49191362e-02,  7.61942503e-02,  2.11257569e-01,\n",
       "         2.36719621e-01,  2.64855369e-01,  3.08793125e-01,\n",
       "         2.69311327e-01,  1.88224496e-01,  1.32863205e-01,\n",
       "         1.41081681e-01,  1.09623787e-01,  1.35268735e-01,\n",
       "        -0.00000000e+00, -0.00000000e+00, -0.00000000e+00,\n",
       "        -0.00000000e+00,  6.73933745e-03,  0.00000000e+00,\n",
       "         0.00000000e+00],\n",
       "       [ 0.00000000e+00,  0.00000000e+00,  0.00000000e+00,\n",
       "         0.00000000e+00,  0.00000000e+00,  2.61486354e-03,\n",
       "         4.17011552e-02,  9.99841971e-03,  3.90349171e-02,\n",
       "         1.23271212e-01,  1.59389047e-01,  2.57533028e-01,\n",
       "         1.62355913e-01,  7.51090561e-02,  2.59776220e-03,\n",
       "         1.83509560e-02, -0.00000000e+00,  8.73163044e-02,\n",
       "         0.00000000e+00,  0.00000000e+00,  0.00000000e+00,\n",
       "         0.00000000e+00,  0.00000000e+00,  0.00000000e+00,\n",
       "         0.00000000e+00],\n",
       "       [ 0.00000000e+00,  0.00000000e+00,  0.00000000e+00,\n",
       "         0.00000000e+00,  0.00000000e+00,  0.00000000e+00,\n",
       "         1.16216157e-02,  1.50836211e-02, -0.00000000e+00,\n",
       "         6.48204514e-02,  9.34087637e-02,  1.82435395e-01,\n",
       "         1.92386809e-01,  1.17995581e-01,  3.82894299e-03,\n",
       "         1.71630701e-02, -0.00000000e+00,  2.66117427e-02,\n",
       "         0.00000000e+00,  0.00000000e+00,  0.00000000e+00,\n",
       "         0.00000000e+00,  0.00000000e+00,  0.00000000e+00,\n",
       "         0.00000000e+00],\n",
       "       [ 0.00000000e+00,  0.00000000e+00,  0.00000000e+00,\n",
       "         0.00000000e+00,  0.00000000e+00,  0.00000000e+00,\n",
       "         0.00000000e+00,  2.03378275e-03, -0.00000000e+00,\n",
       "         5.81237927e-02,  6.61569712e-02,  1.37443340e-01,\n",
       "         2.35114323e-01,  1.71054398e-01,  2.22578050e-02,\n",
       "         0.00000000e+00,  0.00000000e+00,  0.00000000e+00,\n",
       "         0.00000000e+00,  0.00000000e+00,  0.00000000e+00,\n",
       "         0.00000000e+00,  0.00000000e+00,  0.00000000e+00,\n",
       "         0.00000000e+00],\n",
       "       [ 0.00000000e+00,  0.00000000e+00,  0.00000000e+00,\n",
       "         0.00000000e+00,  0.00000000e+00,  0.00000000e+00,\n",
       "         0.00000000e+00,  0.00000000e+00,  0.00000000e+00,\n",
       "         2.18518112e-02,  4.09074001e-02,  7.04865158e-02,\n",
       "         1.64893317e-01,  2.55927094e-01,  1.41003937e-01,\n",
       "         8.15761740e-02,  3.37220880e-02,  3.09495422e-04,\n",
       "         0.00000000e+00,  0.00000000e+00,  0.00000000e+00,\n",
       "         0.00000000e+00,  0.00000000e+00,  0.00000000e+00,\n",
       "         0.00000000e+00],\n",
       "       [ 0.00000000e+00,  0.00000000e+00,  0.00000000e+00,\n",
       "         0.00000000e+00,  0.00000000e+00,  0.00000000e+00,\n",
       "         0.00000000e+00,  0.00000000e+00,  0.00000000e+00,\n",
       "         1.59797216e-03,  3.15483644e-02,  4.10824376e-02,\n",
       "         8.84446386e-02,  2.64758684e-01,  2.81747632e-01,\n",
       "         2.09221773e-01,  1.46320744e-01,  4.45410768e-02,\n",
       "         7.73738556e-03,  0.00000000e+00,  0.00000000e+00,\n",
       "         0.00000000e+00,  0.00000000e+00,  0.00000000e+00,\n",
       "         0.00000000e+00],\n",
       "       [ 0.00000000e+00,  0.00000000e+00,  0.00000000e+00,\n",
       "         0.00000000e+00,  0.00000000e+00,  0.00000000e+00,\n",
       "         0.00000000e+00,  0.00000000e+00,  0.00000000e+00,\n",
       "         0.00000000e+00,  5.08445687e-03,  4.29887505e-02,\n",
       "         2.88845615e-02,  1.20747819e-01,  2.42422671e-01,\n",
       "         2.62710886e-01,  2.65272201e-01,  1.60106564e-01,\n",
       "         6.18461043e-02,  8.35637640e-03,  0.00000000e+00,\n",
       "         0.00000000e+00,  0.00000000e+00,  0.00000000e+00,\n",
       "         0.00000000e+00],\n",
       "       [ 0.00000000e+00,  0.00000000e+00,  0.00000000e+00,\n",
       "         0.00000000e+00,  0.00000000e+00,  0.00000000e+00,\n",
       "         0.00000000e+00,  0.00000000e+00,  0.00000000e+00,\n",
       "         0.00000000e+00,  0.00000000e+00,  1.17668859e-02,\n",
       "         3.18412680e-02,  1.57619767e-02,  9.02718428e-02,\n",
       "         1.65262833e-01,  2.58300729e-01,  2.62313858e-01,\n",
       "         1.83810578e-01,  6.58828368e-02,  0.00000000e+00,\n",
       "         0.00000000e+00,  0.00000000e+00,  0.00000000e+00,\n",
       "         0.00000000e+00],\n",
       "       [ 0.00000000e+00,  0.00000000e+00,  0.00000000e+00,\n",
       "         0.00000000e+00,  0.00000000e+00,  0.00000000e+00,\n",
       "         0.00000000e+00,  0.00000000e+00,  0.00000000e+00,\n",
       "         0.00000000e+00,  0.00000000e+00,  0.00000000e+00,\n",
       "         6.53715884e-03,  2.39829189e-02,  1.74866052e-02,\n",
       "         6.70045177e-02,  1.79921183e-01,  3.10215876e-01,\n",
       "         2.54742018e-01,  1.56168550e-01,  1.98077070e-02,\n",
       "         0.00000000e+00,  0.00000000e+00,  0.00000000e+00,\n",
       "         0.00000000e+00],\n",
       "       [ 0.00000000e+00,  0.00000000e+00,  0.00000000e+00,\n",
       "         0.00000000e+00,  0.00000000e+00,  0.00000000e+00,\n",
       "         0.00000000e+00,  0.00000000e+00,  0.00000000e+00,\n",
       "         0.00000000e+00,  0.00000000e+00,  0.00000000e+00,\n",
       "         1.65199360e-02,  3.34793081e-02,  5.52682768e-02,\n",
       "         1.73240307e-01,  1.85833705e-01,  3.04007702e-01,\n",
       "         2.33672901e-01,  1.73763087e-01,  1.95990033e-02,\n",
       "         0.00000000e+00,  0.00000000e+00,  0.00000000e+00,\n",
       "         0.00000000e+00],\n",
       "       [ 0.00000000e+00,  0.00000000e+00,  0.00000000e+00,\n",
       "         0.00000000e+00,  0.00000000e+00,  0.00000000e+00,\n",
       "         0.00000000e+00,  0.00000000e+00,  0.00000000e+00,\n",
       "         0.00000000e+00,  1.40060327e-02,  4.30517936e-02,\n",
       "         7.88153985e-02,  1.70165469e-01,  2.39326074e-01,\n",
       "         3.07394045e-01,  2.46763922e-01,  2.89597967e-01,\n",
       "         1.82699065e-01,  1.40373781e-01,  1.16525509e-02,\n",
       "         0.00000000e+00,  0.00000000e+00,  0.00000000e+00,\n",
       "         0.00000000e+00],\n",
       "       [ 0.00000000e+00,  0.00000000e+00,  0.00000000e+00,\n",
       "         0.00000000e+00,  0.00000000e+00,  0.00000000e+00,\n",
       "         0.00000000e+00,  0.00000000e+00,  8.61909704e-03,\n",
       "         3.47257541e-02,  6.61306916e-02,  1.63558499e-01,\n",
       "         2.53897324e-01,  2.96518931e-01,  3.04350087e-01,\n",
       "         3.09815654e-01,  2.76869281e-01,  2.07850710e-01,\n",
       "         8.42541546e-02,  8.91052712e-02,  3.45607049e-04,\n",
       "         0.00000000e+00,  0.00000000e+00,  0.00000000e+00,\n",
       "         0.00000000e+00],\n",
       "       [ 0.00000000e+00,  0.00000000e+00,  0.00000000e+00,\n",
       "         0.00000000e+00,  0.00000000e+00,  0.00000000e+00,\n",
       "         8.25996799e-03,  1.77465166e-02,  7.18541943e-02,\n",
       "         1.33152616e-01,  2.42256635e-01,  2.88853691e-01,\n",
       "         2.96413188e-01,  2.98140297e-01,  2.85108324e-01,\n",
       "         2.16380551e-01,  1.09029129e-01,  3.31451104e-02,\n",
       "         8.14110404e-03,  3.14502414e-02,  0.00000000e+00,\n",
       "         0.00000000e+00,  0.00000000e+00,  0.00000000e+00,\n",
       "         0.00000000e+00],\n",
       "       [ 0.00000000e+00,  0.00000000e+00,  0.00000000e+00,\n",
       "         0.00000000e+00,  6.46432278e-03,  5.67498488e-02,\n",
       "         7.04301974e-02,  1.49754427e-01,  2.38212766e-01,\n",
       "         2.78011336e-01,  3.02076048e-01,  2.94744817e-01,\n",
       "         2.82810137e-01,  2.14235774e-01,  1.11850742e-01,\n",
       "         3.49137541e-02,  5.94098168e-03,  1.03873478e-02,\n",
       "         1.34786749e-02,  0.00000000e+00,  0.00000000e+00,\n",
       "         0.00000000e+00,  0.00000000e+00,  0.00000000e+00,\n",
       "         0.00000000e+00],\n",
       "       [ 0.00000000e+00,  0.00000000e+00,  1.97520974e-02,\n",
       "         4.75275861e-02,  8.05238744e-02,  1.90472561e-01,\n",
       "         2.45902840e-01,  3.08285005e-01,  3.18786318e-01,\n",
       "         2.90282711e-01,  2.97338880e-01,  2.44070147e-01,\n",
       "         1.28341806e-01,  3.70765400e-02,  7.01717445e-03,\n",
       "         1.10465618e-02,  1.33576166e-02,  3.45607049e-04,\n",
       "         0.00000000e+00,  0.00000000e+00,  0.00000000e+00,\n",
       "         0.00000000e+00,  0.00000000e+00,  0.00000000e+00,\n",
       "         0.00000000e+00],\n",
       "       [ 0.00000000e+00,  0.00000000e+00,  6.18148450e-02,\n",
       "         1.12617356e-01,  2.31485728e-01,  3.13699131e-01,\n",
       "         2.85542299e-01,  2.91513491e-01,  2.53332900e-01,\n",
       "         2.28164558e-01,  1.51235744e-01,  5.62384393e-02,\n",
       "         2.37558186e-02,  1.16541225e-02,  1.09466720e-02,\n",
       "         1.55523172e-03,  0.00000000e+00,  0.00000000e+00,\n",
       "         0.00000000e+00,  0.00000000e+00,  0.00000000e+00,\n",
       "         0.00000000e+00,  0.00000000e+00,  0.00000000e+00,\n",
       "         0.00000000e+00],\n",
       "       [ 0.00000000e+00,  0.00000000e+00,  5.16223488e-02,\n",
       "         8.68290951e-02,  1.06286544e-01,  1.44758734e-01,\n",
       "         1.30399471e-01,  1.04898559e-01,  8.80932913e-02,\n",
       "         2.22432478e-02,  9.63598309e-03,  4.71927260e-03,\n",
       "         1.94657899e-02,  1.90083877e-03,  0.00000000e+00,\n",
       "         0.00000000e+00,  0.00000000e+00,  0.00000000e+00,\n",
       "         0.00000000e+00,  0.00000000e+00,  0.00000000e+00,\n",
       "         0.00000000e+00,  0.00000000e+00,  0.00000000e+00,\n",
       "         0.00000000e+00],\n",
       "       [ 0.00000000e+00,  0.00000000e+00,  1.97567467e-02,\n",
       "         2.02798372e-02, -0.00000000e+00, -0.00000000e+00,\n",
       "        -0.00000000e+00, -0.00000000e+00, -0.00000000e+00,\n",
       "        -0.00000000e+00,  1.76943142e-02,  2.76485639e-03,\n",
       "         0.00000000e+00,  0.00000000e+00,  0.00000000e+00,\n",
       "         0.00000000e+00,  0.00000000e+00,  0.00000000e+00,\n",
       "         0.00000000e+00,  0.00000000e+00,  0.00000000e+00,\n",
       "         0.00000000e+00,  0.00000000e+00,  0.00000000e+00,\n",
       "         0.00000000e+00]])"
      ]
     },
     "execution_count": 92,
     "metadata": {},
     "output_type": "execute_result"
    }
   ],
   "source": [
    "cnn[0]"
   ]
  },
  {
   "cell_type": "code",
   "execution_count": null,
   "id": "98c31846",
   "metadata": {},
   "outputs": [],
   "source": []
  },
  {
   "cell_type": "code",
   "execution_count": null,
   "id": "c7974ff1",
   "metadata": {},
   "outputs": [],
   "source": []
  },
  {
   "cell_type": "code",
   "execution_count": null,
   "id": "e28ca331",
   "metadata": {},
   "outputs": [],
   "source": []
  },
  {
   "cell_type": "code",
   "execution_count": null,
   "id": "a1ba7270",
   "metadata": {},
   "outputs": [],
   "source": []
  },
  {
   "cell_type": "code",
   "execution_count": null,
   "id": "0372cd3e",
   "metadata": {},
   "outputs": [],
   "source": []
  },
  {
   "cell_type": "code",
   "execution_count": 75,
   "id": "3a01c812",
   "metadata": {},
   "outputs": [
    {
     "data": {
      "image/png": "[encoded data removed]",
      "text/plain": [
       "<Figure size 720x576 with 1 Axes>"
      ]
     },
     "metadata": {
      "needs_background": "light"
     },
     "output_type": "display_data"
    }
   ],
   "source": [
    "fig = plt.figure(figsize=(10, 8))\n",
    "image = inputs[144]\n",
    "ax = fig.add_axes([1, 1, 1, 1])\n",
    "ax.imshow(image, cmap='Greys', interpolation='None')\n",
    "ax.grid()"
   ]
  }
 ],
 "metadata": {
  "kernelspec": {
   "display_name": "Python 3 (ipykernel)",
   "language": "python",
   "name": "python3"
  },
  "language_info": {
   "codemirror_mode": {
    "name": "ipython",
    "version": 3
   },
   "file_extension": ".py",
   "mimetype": "text/x-python",
   "name": "python",
   "nbconvert_exporter": "python",
   "pygments_lexer": "ipython3",
   "version": "3.9.12"
  }
 },
 "nbformat": 4,
 "nbformat_minor": 5
}
