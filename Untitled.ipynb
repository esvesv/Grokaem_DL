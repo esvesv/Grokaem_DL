{
 "cells": [
  {
   "cell_type": "code",
   "execution_count": 6,
   "id": "c84e191b",
   "metadata": {},
   "outputs": [],
   "source": [
    "import numpy as np\n",
    "import sys\n",
    "import time"
   ]
  },
  {
   "cell_type": "code",
   "execution_count": 41,
   "id": "9c86de02",
   "metadata": {},
   "outputs": [],
   "source": [
    "streetlights = np.array([\n",
    "                    [0, 0, 1],\n",
    "                    [0, 1, 0],\n",
    "                    [0, 1, 1],\n",
    "                    [1, 0, 0],\n",
    "                    [1, 0, 1],\n",
    "                    [1, 1, 0],\n",
    "                    [1, 1, 1]\n",
    "])\n",
    "\n",
    "walk_vs_stop = np.array([0, 1, 1, 0, 0, 1, 1]).reshape(-1, 1)"
   ]
  },
  {
   "cell_type": "code",
   "execution_count": 84,
   "id": "3bb25aa0",
   "metadata": {},
   "outputs": [],
   "source": [
    "np.random.seed(2)\n",
    "\n",
    "relu = lambda x: (x > 0) * x\n",
    "relu2deriv = lambda x: (x > 0)\n",
    "\n",
    "weights = 2 * np.random.random((3, 1)) - 1\n",
    "# weights = np.array([0.5, 0.48, -0.7]).reshape(-1, 1)\n",
    "lr = 0.1\n",
    "iterations = 50\n",
    "batch_size = 1"
   ]
  },
  {
   "cell_type": "code",
   "execution_count": 89,
   "id": "02e6ef14",
   "metadata": {
    "scrolled": true
   },
   "outputs": [
    {
     "name": "stdout",
     "output_type": "stream",
     "text": [
      "\r",
      " I: 0 Error: 0.0000000006\n",
      "\r",
      " I: 1 Error: 0.0000000005\n",
      "\r",
      " I: 2 Error: 0.0000000004\n",
      "\r",
      " I: 3 Error: 0.0000000003\n",
      "\r",
      " I: 4 Error: 0.0000000002\n",
      "\r",
      " I: 5 Error: 0.0000000002\n",
      "\r",
      " I: 6 Error: 0.0000000002\n",
      "\r",
      " I: 7 Error: 0.0000000001\n",
      "\r",
      " I: 8 Error: 0.0000000001\n",
      "\r",
      " I: 9 Error: 0.0000000001\n",
      "\r",
      " I: 10 Error: 0.0000000001\n",
      "\r",
      " I: 11 Error: 0.0000000001\n",
      "\r",
      " I: 12 Error: 0.0000000000\n",
      "\r",
      " I: 13 Error: 0.0000000000\n",
      "\r",
      " I: 14 Error: 0.0000000000\n",
      "\r",
      " I: 15 Error: 0.0000000000\n",
      "\r",
      " I: 16 Error: 0.0000000000\n",
      "\r",
      " I: 17 Error: 0.0000000000\n",
      "\r",
      " I: 18 Error: 0.0000000000\n",
      "\r",
      " I: 19 Error: 0.0000000000\n",
      "\r",
      " I: 20 Error: 0.0000000000\n",
      "\r",
      " I: 21 Error: 0.0000000000\n",
      "\r",
      " I: 22 Error: 0.0000000000\n",
      "\r",
      " I: 23 Error: 0.0000000000\n",
      "\r",
      " I: 24 Error: 0.0000000000\n",
      "\r",
      " I: 25 Error: 0.0000000000\n",
      "\r",
      " I: 26 Error: 0.0000000000\n",
      "\r",
      " I: 27 Error: 0.0000000000\n",
      "\r",
      " I: 28 Error: 0.0000000000\n",
      "\r",
      " I: 29 Error: 0.0000000000\n",
      "\r",
      " I: 30 Error: 0.0000000000\n",
      "\r",
      " I: 31 Error: 0.0000000000\n",
      "\r",
      " I: 32 Error: 0.0000000000\n",
      "\r",
      " I: 33 Error: 0.0000000000\n",
      "\r",
      " I: 34 Error: 0.0000000000\n",
      "\r",
      " I: 35 Error: 0.0000000000\n",
      "\r",
      " I: 36 Error: 0.0000000000\n",
      "\r",
      " I: 37 Error: 0.0000000000\n",
      "\r",
      " I: 38 Error: 0.0000000000\n",
      "\r",
      " I: 39 Error: 0.0000000000\n",
      "\r",
      " I: 40 Error: 0.0000000000\n",
      "\r",
      " I: 41 Error: 0.0000000000\n",
      "\r",
      " I: 42 Error: 0.0000000000\n",
      "\r",
      " I: 43 Error: 0.0000000000\n",
      "\r",
      " I: 44 Error: 0.0000000000\n",
      "\r",
      " I: 45 Error: 0.0000000000\n",
      "\r",
      " I: 46 Error: 0.0000000000\n",
      "\r",
      " I: 47 Error: 0.0000000000\n",
      "\r",
      " I: 48 Error: 0.0000000000\n",
      "\r",
      " I: 49 Error: 0.0000000000\n"
     ]
    }
   ],
   "source": [
    "for iter in range(iterations):\n",
    "    for i in range(int(inputs.shape[0] / batch_size)):\n",
    "#     for i in range(4, 5):\n",
    "        batch_start = i * batch_size\n",
    "        batch_end = batch_start + batch_size\n",
    "        goal_prediciton = walk_vs_stop[batch_start - batch_size]\n",
    "        inputs = streetlights[batch_start: batch_end]\n",
    "        predictions = inputs.dot(weights)\n",
    "        delta = np.sum(predictions - goal_prediciton, axis=0)\n",
    "#         break\n",
    "        weights_delta = (inputs * delta).reshape(-1, 1)\n",
    "#         break\n",
    "        weights -= lr * weights_delta\n",
    "\n",
    "        error = sum(delta) ** 2\n",
    "#         break\n",
    "        sys.stdout.write(f'\\r I: {iter} Error: {error:.10f}')\n",
    "#         time.sleep(0.5)\n",
    "#         break\n",
    "    print()"
   ]
  },
  {
   "cell_type": "code",
   "execution_count": 90,
   "id": "28fec60c",
   "metadata": {},
   "outputs": [
    {
     "data": {
      "text/plain": [
       "array([[-0.1280102 ],\n",
       "       [-0.94814754],\n",
       "       [ 0.99999988]])"
      ]
     },
     "execution_count": 90,
     "metadata": {},
     "output_type": "execute_result"
    }
   ],
   "source": [
    "weights"
   ]
  },
  {
   "cell_type": "code",
   "execution_count": 51,
   "id": "bd161690",
   "metadata": {},
   "outputs": [
    {
     "data": {
      "text/plain": [
       "array([-0.2])"
      ]
     },
     "execution_count": 51,
     "metadata": {},
     "output_type": "execute_result"
    }
   ],
   "source": [
    "delta"
   ]
  },
  {
   "cell_type": "code",
   "execution_count": 52,
   "id": "19a326dc",
   "metadata": {},
   "outputs": [
    {
     "data": {
      "text/plain": [
       "array([0])"
      ]
     },
     "execution_count": 52,
     "metadata": {},
     "output_type": "execute_result"
    }
   ],
   "source": [
    "goal_prediciton"
   ]
  },
  {
   "cell_type": "code",
   "execution_count": 87,
   "id": "80032dbf",
   "metadata": {},
   "outputs": [
    {
     "ename": "AttributeError",
     "evalue": "'function' object has no attribute 'dot'",
     "output_type": "error",
     "traceback": [
      "\u001b[1;31m---------------------------------------------------------------------------\u001b[0m",
      "\u001b[1;31mAttributeError\u001b[0m                            Traceback (most recent call last)",
      "Input \u001b[1;32mIn [87]\u001b[0m, in \u001b[0;36m<cell line: 1>\u001b[1;34m()\u001b[0m\n\u001b[0;32m      1\u001b[0m \u001b[38;5;28;01mfor\u001b[39;00m i \u001b[38;5;129;01min\u001b[39;00m \u001b[38;5;28mrange\u001b[39m(\u001b[38;5;241m20\u001b[39m):\n\u001b[1;32m----> 2\u001b[0m     output \u001b[38;5;241m=\u001b[39m \u001b[38;5;28;43minput\u001b[39;49m\u001b[38;5;241;43m.\u001b[39;49m\u001b[43mdot\u001b[49m(weight)\n\u001b[0;32m      3\u001b[0m     delta \u001b[38;5;241m=\u001b[39m output \u001b[38;5;241m-\u001b[39m goal\n\u001b[0;32m      4\u001b[0m     error \u001b[38;5;241m=\u001b[39m np\u001b[38;5;241m.\u001b[39msum(delta \u001b[38;5;241m*\u001b[39m\u001b[38;5;241m*\u001b[39m \u001b[38;5;241m2\u001b[39m)\n",
      "\u001b[1;31mAttributeError\u001b[0m: 'function' object has no attribute 'dot'"
     ]
    }
   ],
   "source": [
    "for i in range(20):\n",
    "    output = input.dot(weight)\n",
    "    delta = output - goal\n",
    "    error = np.sum(delta ** 2)\n",
    "    weight_delta = delta * input\n",
    "    weight -= lr * weight_delta\n",
    "    print(f'Error: {error}')"
   ]
  },
  {
   "cell_type": "code",
   "execution_count": 168,
   "id": "f8225836",
   "metadata": {},
   "outputs": [
    {
     "data": {
      "text/plain": [
       "array([[133.86879774,   6.02409849]])"
      ]
     },
     "execution_count": 168,
     "metadata": {},
     "output_type": "execute_result"
    }
   ],
   "source": [
    "weight"
   ]
  },
  {
   "cell_type": "code",
   "execution_count": 155,
   "id": "ec77580f",
   "metadata": {},
   "outputs": [
    {
     "data": {
      "text/plain": [
       "(1, 2)"
      ]
     },
     "execution_count": 155,
     "metadata": {},
     "output_type": "execute_result"
    }
   ],
   "source": [
    "goal.shape"
   ]
  },
  {
   "cell_type": "code",
   "execution_count": 163,
   "id": "3c8b1f50",
   "metadata": {},
   "outputs": [
    {
     "data": {
      "text/plain": [
       "array([[-7464.41991,  1449.4788 ]])"
      ]
     },
     "execution_count": 163,
     "metadata": {},
     "output_type": "execute_result"
    }
   ],
   "source": [
    "weight_delta"
   ]
  },
  {
   "cell_type": "code",
   "execution_count": null,
   "id": "f29369c1",
   "metadata": {},
   "outputs": [],
   "source": []
  }
 ],
 "metadata": {
  "kernelspec": {
   "display_name": "Python 3 (ipykernel)",
   "language": "python",
   "name": "python3"
  },
  "language_info": {
   "codemirror_mode": {
    "name": "ipython",
    "version": 3
   },
   "file_extension": ".py",
   "mimetype": "text/x-python",
   "name": "python",
   "nbconvert_exporter": "python",
   "pygments_lexer": "ipython3",
   "version": "3.9.12"
  }
 },
 "nbformat": 4,
 "nbformat_minor": 5
}
