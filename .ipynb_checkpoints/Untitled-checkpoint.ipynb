{
 "cells": [
  {
   "cell_type": "markdown",
   "id": "eef573e1",
   "metadata": {},
   "source": [
    "Первая нейронная сеть, один вход и один выход. В качестве входного значения берется number_of_toes[0], а в качестве веса одно единственное значение weight."
   ]
  },
  {
   "cell_type": "code",
   "execution_count": 2,
   "id": "09550790",
   "metadata": {},
   "outputs": [],
   "source": [
    "weight = 0.1\n",
    "def neural_network(input_, weight):\n",
    "    prediction = input_ * weight\n",
    "    return prediction"
   ]
  },
  {
   "cell_type": "code",
   "execution_count": 8,
   "id": "016cec1e",
   "metadata": {},
   "outputs": [
    {
     "name": "stdout",
     "output_type": "stream",
     "text": [
      "0.85\n"
     ]
    }
   ],
   "source": [
    "number_of_toes = [8.5, 9.5, 10, 9]\n",
    "input_ = number_of_toes[0]\n",
    "pred = neural_network(input_, weight)\n",
    "print(f'{pred:.2f}')"
   ]
  },
  {
   "cell_type": "markdown",
   "id": "c4379190",
   "metadata": {},
   "source": [
    "Чистая нейронная сеть с несколькими входами. Три входа, соответственно и три веса, но набор весов (сосоящий из трех) по-прежнему один, так как один выход. Функция w_sum (здесь не описана) выполняет взвешенное суммирование входов и весов."
   ]
  },
  {
   "cell_type": "code",
   "execution_count": 1,
   "id": "bea5ce6d",
   "metadata": {},
   "outputs": [],
   "source": [
    "weights = [0.1, 0.2, 0]\n",
    "def neural_network(input_, weight):\n",
    "    pred = w_sum(input_, weight)\n",
    "    return pred"
   ]
  },
  {
   "cell_type": "markdown",
   "id": "455f0e7e",
   "metadata": {},
   "source": [
    "Попытка самостоятельно написать функции операций над векторами:"
   ]
  },
  {
   "cell_type": "code",
   "execution_count": 17,
   "id": "91258339",
   "metadata": {},
   "outputs": [],
   "source": [
    "def elementwise_multiplication(vec_a, vec_b):\n",
    "    assert(len(vec_a) == len(vec_b))\n",
    "    return [a * b for a, b in zip(vec_a, vec_b)]\n",
    "\n",
    "def elementwise_addition(vec_a, vec_b):\n",
    "    assert(len(vec_a == len(vec_b)))\n",
    "    return [a + b for a, b in zip(vec_a, vec_b)]\n",
    "\n",
    "def vector_sum(vec_a):\n",
    "    return sum(vec_a)\n",
    "\n",
    "def vector_average(vec_a):\n",
    "    return (sum(vec_a) / len(vec_a))"
   ]
  },
  {
   "cell_type": "code",
   "execution_count": 18,
   "id": "b87bb25c",
   "metadata": {},
   "outputs": [],
   "source": [
    "toes = [8.5, 9.5, 9.9, 9.0]\n",
    "wlrec = [0.65, 0.8, 0.8, 0.9]\n",
    "nfans = [1.2, 1.3, 0.5, 1.0]\n",
    "\n",
    "def w_sum(a, b):\n",
    "    return (vector_sum(elementwise_multiplication(a, b)))"
   ]
  },
  {
   "cell_type": "code",
   "execution_count": 20,
   "id": "4877acdb",
   "metadata": {},
   "outputs": [
    {
     "data": {
      "text/plain": [
       "0.9800000000000001"
      ]
     },
     "execution_count": 20,
     "metadata": {},
     "output_type": "execute_result"
    }
   ],
   "source": [
    "input_ = [toes[0], wlrec[0], nfans[0]] # первая игра сезона\n",
    "neural_network(input_, weights)"
   ]
  },
  {
   "cell_type": "markdown",
   "id": "5225f10d",
   "metadata": {},
   "source": [
    "То же самое с использование библиотеки numpy"
   ]
  },
  {
   "cell_type": "code",
   "execution_count": 21,
   "id": "20b0326a",
   "metadata": {},
   "outputs": [
    {
     "name": "stdout",
     "output_type": "stream",
     "text": [
      "0.9800000000000001\n"
     ]
    }
   ],
   "source": [
    "import numpy as np\n",
    "\n",
    "weights = np.array([0.1, 0.2, 0])\n",
    "def neural_network(input_, weight):\n",
    "    pred = input_.dot(weight)\n",
    "    return pred\n",
    "\n",
    "toes = np.array([8.5, 9.5, 9.9, 9.0])\n",
    "wlrec = np.array([0.65, 0.8, 0.8, 0.9])\n",
    "nfans = np.array([1.2, 1.3, 0.5, 1.0])\n",
    "\n",
    "input_ = np.array([toes[0], wlrec[0], nfans[0]]) # первая игра сезона\n",
    "pred = neural_network(input_, weights)\n",
    "print(pred)"
   ]
  },
  {
   "cell_type": "markdown",
   "id": "755b1f47",
   "metadata": {},
   "source": [
    "Сеть с одним входом и несколькими выходами действует так как если бы состояла из нескольких независимых сетей (в нашем случае трех)."
   ]
  },
  {
   "cell_type": "code",
   "execution_count": 36,
   "id": "01025322",
   "metadata": {},
   "outputs": [
    {
     "name": "stdout",
     "output_type": "stream",
     "text": [
      "[0.195 0.13  0.585]\n"
     ]
    }
   ],
   "source": [
    "import numpy as np\n",
    "\n",
    "def neural_network(input_, weight):\n",
    "    pred = input_.dot(weight)\n",
    "    return pred\n",
    "\n",
    "weights = np.array([[0.3, 0.2, 0.9]])\n",
    "wlrec = np.array([[0.65], [0.8], [0.8], [0.9]])\n",
    "\n",
    "input_ = wlrec[0]\n",
    "pred = neural_network(input_, weights)\n",
    "print(pred)"
   ]
  },
  {
   "cell_type": "markdown",
   "id": "83d1f616",
   "metadata": {},
   "source": [
    "Сеть с несколькими входами и выходами"
   ]
  },
  {
   "cell_type": "code",
   "execution_count": null,
   "id": "bcb0fd36",
   "metadata": {},
   "outputs": [],
   "source": []
  }
 ],
 "metadata": {
  "kernelspec": {
   "display_name": "Python 3 (ipykernel)",
   "language": "python",
   "name": "python3"
  },
  "language_info": {
   "codemirror_mode": {
    "name": "ipython",
    "version": 3
   },
   "file_extension": ".py",
   "mimetype": "text/x-python",
   "name": "python",
   "nbconvert_exporter": "python",
   "pygments_lexer": "ipython3",
   "version": "3.9.12"
  }
 },
 "nbformat": 4,
 "nbformat_minor": 5
}
