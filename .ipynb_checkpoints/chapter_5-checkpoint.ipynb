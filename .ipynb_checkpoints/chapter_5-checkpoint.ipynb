{
 "cells": [
  {
   "cell_type": "markdown",
   "id": "d5f7388a",
   "metadata": {},
   "source": [
    "## Градиентный спуск с несколькими входами и одним выходом"
   ]
  },
  {
   "cell_type": "code",
   "execution_count": 23,
   "id": "02556b75",
   "metadata": {},
   "outputs": [
    {
     "name": "stdout",
     "output_type": "stream",
     "text": [
      "Error: 0.01959999999999997 Prediction: 0.8600000000000001\n",
      "Error: 0.003816150624999989 Prediction: 0.9382250000000001\n",
      "Error: 0.000743010489422852 Prediction: 0.97274178125\n",
      "Error: 0.00014466530324451716 Prediction: 0.9879723109765626\n",
      "Error: 2.816656058124442e-05 Prediction: 0.9946927822184082\n",
      "Error: 5.4840733554193225e-06 Prediction: 0.9976581901538726\n",
      "Error: 1.0677576511647737e-06 Prediction: 0.9989666764053963\n",
      "Error: 2.0789408305308443e-07 Prediction: 0.9995440459638811\n",
      "Error: 4.047730280492479e-08 Prediction: 0.9997988102815626\n",
      "Error: 7.88099410193004e-09 Prediction: 0.9999112250367393\n",
      "Error: 1.534441865691311e-09 Prediction: 0.9999608280474613\n",
      "Error: 2.9875822881604593e-10 Prediction: 0.9999827153759423\n",
      "Error: 5.816869395885552e-11 Prediction: 0.9999923731596346\n",
      "Error: 1.132553560329354e-11 Prediction: 0.9999966346566886\n",
      "Error: 2.205099477699298e-12 Prediction: 0.999998515042264\n",
      "Error: 4.2933631399622575e-13 Prediction: 0.9999993447623988\n",
      "Error: 8.359245116912362e-14 Prediction: 0.9999997108764085\n",
      "Error: 1.627558084542296e-14 Prediction: 0.9999998724242153\n",
      "Error: 3.168881016683471e-15 Prediction: 0.999999943707185\n",
      "Error: 6.169860897854493e-16 Prediction: 0.9999999751607953\n"
     ]
    }
   ],
   "source": [
    "import numpy as np\n",
    "toes = np.array([8.5, 9.5, 9.9, 9.0])\n",
    "wlrec = np.array([0.65, 0.8, 0.8, 0.9])\n",
    "nfans = np.array([1.2, 1.3, 0.5, 1.0])\n",
    "lr = 0.3\n",
    "\n",
    "weights = np.array([0.1, 0.2, -0.1]).T\n",
    "\n",
    "goal_pred = np.array([1, 1, 0, 1])\n",
    "goal = goal_pred[0]\n",
    "\n",
    "input_ = np.array([toes[0], wlrec[0], nfans[0]])\n",
    "\n",
    "def neural_network(input_, weights):\n",
    "    pred = input_.dot(weights)\n",
    "    return pred\n",
    "for  iteration in range(20):\n",
    "    pred = neural_network(input_, weights)\n",
    "    error = (pred - goal) ** 2\n",
    "    delta = pred - goal\n",
    "    weights_deltas = input_.dot(delta)\n",
    "    weights_deltas[0] = 0 # заморозили первый вес\n",
    "    weights -= lr * weights_deltas\n",
    "    print(f'Error: {error} Prediction: {pred}')"
   ]
  },
  {
   "cell_type": "markdown",
   "id": "7e8ad839",
   "metadata": {},
   "source": [
    "## Градиентный спуск с несколькими выходами"
   ]
  },
  {
   "cell_type": "markdown",
   "id": "394d1303",
   "metadata": {},
   "source": [
    "#### Чистая сеть с одним входом и несколькими выходами"
   ]
  },
  {
   "cell_type": "code",
   "execution_count": 35,
   "id": "85ecb960",
   "metadata": {},
   "outputs": [
    {
     "name": "stdout",
     "output_type": "stream",
     "text": [
      "Error: [0.009025 0.7569   0.235225] Delta: [ 0.095 -0.87   0.485] Prediction: [0.195 0.13  0.585]\n",
      "Weights_deltas: [0.195 0.13  0.585]\n"
     ]
    }
   ],
   "source": [
    "import numpy as np\n",
    "\n",
    "weights = np.array([0.3, 0.2, 0.9])\n",
    "\n",
    "inputs = np.array([0.65, 1.0, 1.0, 0.9])\n",
    "\n",
    "hurt = np.array([0.1, 0.0, 0.0, 0.1])\n",
    "win = np.array([1, 1, 0, 1])\n",
    "sad = np.array([0.1, 0.0, 0.1, 0.2])\n",
    "\n",
    "lr = 0.1\n",
    "\n",
    "def neural_network(input_, weights):\n",
    "    pred = weights.dot(input_)\n",
    "    return pred\n",
    "\n",
    "input_ = inputs[0]\n",
    "goal = np.array([hurt[0], win[0], sad[0]])\n",
    "\n",
    "pred = neural_network(input_, weights)\n",
    "error = (pred - goal) ** 2\n",
    "delta = pred - goal\n",
    "weights_deltas = input_ * weights\n",
    "\n",
    "print(f'Error: {error} Delta: {delta} Prediction: {pred}')\n",
    "print(f'Weights_deltas: {weights_deltas}')"
   ]
  },
  {
   "cell_type": "code",
   "execution_count": null,
   "id": "4588b409",
   "metadata": {},
   "outputs": [],
   "source": [
    "121"
   ]
  }
 ],
 "metadata": {
  "kernelspec": {
   "display_name": "Python 3 (ipykernel)",
   "language": "python",
   "name": "python3"
  },
  "language_info": {
   "codemirror_mode": {
    "name": "ipython",
    "version": 3
   },
   "file_extension": ".py",
   "mimetype": "text/x-python",
   "name": "python",
   "nbconvert_exporter": "python",
   "pygments_lexer": "ipython3",
   "version": "3.9.12"
  }
 },
 "nbformat": 4,
 "nbformat_minor": 5
}
