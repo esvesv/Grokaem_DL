{
 "cells": [
  {
   "cell_type": "code",
   "execution_count": 1,
   "id": "f50794fe",
   "metadata": {},
   "outputs": [
    {
     "name": "stderr",
     "output_type": "stream",
     "text": [
      "IOPub data rate exceeded.\n",
      "The notebook server will temporarily stop sending output\n",
      "to the client in order to avoid crashing it.\n",
      "To change this limit, set the config variable\n",
      "`--NotebookApp.iopub_data_rate_limit`.\n",
      "\n",
      "Current values:\n",
      "NotebookApp.iopub_data_rate_limit=1000000.0 (bytes/sec)\n",
      "NotebookApp.rate_limit_window=3.0 (secs)\n",
      "\n"
     ]
    }
   ],
   "source": [
    "with open('Grokking-Deep-Learning/reviews.txt', encoding='utf-8') as file:\n",
    "    raw_reviews = file.readlines()\n",
    "    \n",
    "with open('Grokking-Deep-Learning/labels.txt', encoding='utf-8') as file:\n",
    "    raw_labels = file.readlines()\n",
    "    \n",
    "tokens = list(map(lambda x: set(x.split(' ')), raw_reviews))\n",
    "\n",
    "vocab = set()\n",
    "for sent in tokens:               # попробовать сделать через объединение множеств\n",
    "    for word in sent:\n",
    "        if len(word) > 0:\n",
    "            vocab.add(word)\n",
    "\n",
    "vocab = list(vocab)\n",
    "\n",
    "word2index = {}\n",
    "\n",
    "for i, word in enumerate(vocab):\n",
    "    word2index[word] = i\n",
    "    \n",
    "input_dataset = []\n",
    "\n",
    "for sent in tokens:\n",
    "    sent_indices = []\n",
    "    for word in sent:\n",
    "        try:\n",
    "            sent_indices.append(word2index[word])\n",
    "        except:\n",
    "            ''\n",
    "    input_dataset.append(list(set(sent_indices)))\n",
    "    \n",
    "target_dataset = []\n",
    "\n",
    "for label in raw_labels:\n",
    "    if label == 'positive\\n':\n",
    "        target_dataset.append(1)\n",
    "    else:\n",
    "        target_dataset.append(0)\n",
    "        "
   ]
  },
  {
   "cell_type": "code",
   "execution_count": null,
   "id": "1de71bef",
   "metadata": {},
   "outputs": [],
   "source": [
    "235"
   ]
  }
 ],
 "metadata": {
  "kernelspec": {
   "display_name": "Python 3 (ipykernel)",
   "language": "python",
   "name": "python3"
  },
  "language_info": {
   "codemirror_mode": {
    "name": "ipython",
    "version": 3
   },
   "file_extension": ".py",
   "mimetype": "text/x-python",
   "name": "python",
   "nbconvert_exporter": "python",
   "pygments_lexer": "ipython3",
   "version": "3.9.12"
  }
 },
 "nbformat": 4,
 "nbformat_minor": 5
}
