{
 "cells": [
  {
   "cell_type": "code",
   "execution_count": 1,
   "id": "dd4610a5",
   "metadata": {},
   "outputs": [],
   "source": [
    "import numpy as np"
   ]
  },
  {
   "cell_type": "code",
   "execution_count": 128,
   "id": "de313dc5",
   "metadata": {},
   "outputs": [
    {
     "name": "stdout",
     "output_type": "stream",
     "text": [
      "[-0.2]\n",
      "[-0.22]\n",
      "[-0.7]\n",
      "[0.28]\n",
      "[-0.22]\n",
      "[-0.2]\n",
      "[4.0652]\n"
     ]
    }
   ],
   "source": [
    "streetlights = np.array([\n",
    "                    [1, 0, 1],\n",
    "                    [0, 1, 1],\n",
    "                    [0, 0, 1],\n",
    "                    [1, 1, 1],\n",
    "                    [0, 1, 1],\n",
    "                    [1, 0, 1]\n",
    "                            ])\n",
    "\n",
    "walk_vs_stop = np.array([[0],\n",
    "                         [1],\n",
    "                         [0],\n",
    "                         [1],\n",
    "                         [1],\n",
    "                         [0]\n",
    "    \n",
    "                            ]).reshape(-1)\n",
    "\n",
    "weights = np.array([0.5, 0.48, -0.7])\n",
    "lr = 0.1\n",
    "\n",
    "for iteration in range(1):\n",
    "    error_all = 0\n",
    "    for i in range(len(walk_vs_stop)):\n",
    "        prediction = streetlights[i].dot(weights.reshape(-1, 1))\n",
    "        error = (prediction - walk_vs_stop[i]) ** 2\n",
    "        print(prediction)\n",
    "        error_all += error\n",
    "        delta = prediction - walk_vs_stop[i]\n",
    "#         weights -= lr * (streetlights[i] * delta)\n",
    "    \n",
    "#     if iteration % 10 == 0:\n",
    "#         print(f'Error: \\n{error.sum() / len(weights)} \\nPrediction: \\n{prediction}')\n",
    "    print(error_all)"
   ]
  },
  {
   "cell_type": "code",
   "execution_count": 151,
   "id": "4edff295",
   "metadata": {
    "scrolled": true
   },
   "outputs": [
    {
     "name": "stdout",
     "output_type": "stream",
     "text": [
      "[-0.2  -0.22 -0.7   0.28 -0.22 -0.2 ]\n",
      "4.0652\n",
      "[ 0.04028363  0.93076197 -0.13549065  1.10653625  0.93076197  0.04028363]\n",
      "0.042541041870533404\n",
      "[-0.00158342  0.98665678 -0.06984847  1.05492183  0.98665678 -0.00158342]\n",
      "0.008256313792683748\n",
      "[-0.00321616  0.99552114 -0.03600845  1.02831344  0.99552114 -0.00321616]\n",
      "0.002159067174885018\n",
      "[-0.00191569  0.99794873 -0.01856317  1.01459621  0.99794873 -0.00191569]\n",
      "0.0005733956608956122\n"
     ]
    }
   ],
   "source": [
    "streetlights = np.array([\n",
    "                    [1, 0, 1],\n",
    "                    [0, 1, 1],\n",
    "                    [0, 0, 1],\n",
    "                    [1, 1, 1],\n",
    "                    [0, 1, 1],\n",
    "                    [1, 0, 1]\n",
    "                            ])\n",
    "\n",
    "walk_vs_stop = np.array([[0],\n",
    "                         [1],\n",
    "                         [0],\n",
    "                         [1],\n",
    "                         [1],\n",
    "                         [0]\n",
    "    \n",
    "                            ]).reshape(-1)\n",
    "\n",
    "weights = np.array([0.5, 0.48, -0.7])\n",
    "lr = 0.1\n",
    "\n",
    "for iteration in range(50):\n",
    "    error_all = 0\n",
    "    prediction = streetlights.dot(weights)\n",
    "    error = ((prediction - walk_vs_stop) ** 2).sum()\n",
    "    delta = prediction - walk_vs_stop\n",
    "    weights_delta = delta.dot(streetlights)\n",
    "    weights -= lr * weights_delta\n",
    "\n",
    "    if iteration % 10 == 0:\n",
    "        print(prediction)\n",
    "        print(error)"
   ]
  },
  {
   "cell_type": "code",
   "execution_count": null,
   "id": "db24cb65",
   "metadata": {},
   "outputs": [],
   "source": [
    "149"
   ]
  }
 ],
 "metadata": {
  "kernelspec": {
   "display_name": "Python 3 (ipykernel)",
   "language": "python",
   "name": "python3"
  },
  "language_info": {
   "codemirror_mode": {
    "name": "ipython",
    "version": 3
   },
   "file_extension": ".py",
   "mimetype": "text/x-python",
   "name": "python",
   "nbconvert_exporter": "python",
   "pygments_lexer": "ipython3",
   "version": "3.9.12"
  }
 },
 "nbformat": 4,
 "nbformat_minor": 5
}
