{
 "cells": [
  {
   "cell_type": "code",
   "execution_count": 1,
   "id": "c917fbfb",
   "metadata": {},
   "outputs": [],
   "source": [
    "import numpy as np\n",
    "from keras.datasets import reuters\n",
    "\n",
    "(x_train, y_train), (x_test, y_test) = reuters.load_data(path='reuters.npz',                                                         num_words=None,\n",
    "\n",
    "                                                         skip_top=0,\n",
    "\n",
    "                                                         maxlen=None,\n",
    "\n",
    "                                                         test_split=0.2,\n",
    "\n",
    "                                                         seed=113,\n",
    "\n",
    "                                                         start_char=1,\n",
    "\n",
    "                                                         oov_char=2,\n",
    "\n",
    "                                                         index_from=3)"
   ]
  },
  {
   "cell_type": "code",
   "execution_count": 64,
   "id": "cc4755c9",
   "metadata": {},
   "outputs": [],
   "source": [
    "from collections import Counter\n",
    "vocab = set()\n",
    "for note in x_train:\n",
    "    vocab.update(note)\n",
    "    \n",
    "for note in x_test:\n",
    "    vocab.update(note)\n",
    "    \n",
    "\n",
    "\n",
    "def relu(x):\n",
    "    return (x >= 0) * x\n",
    "\n",
    "def relu2deriv(x):\n",
    "    return (x >= 0)\n",
    "\n",
    "input_dataset = np.zeros((x_train.shape[0], max(vocab) + 1))\n",
    "output_dataset = np.zeros((x_train.shape[0], max(y_train) + 1))\n",
    "\n",
    "for i in range(x_train.shape[0]):\n",
    "    for word in x_train[i]:\n",
    "        input_dataset[i][word] = 1\n",
    "        \n",
    "for i in range(y_train.shape[0]):\n",
    "    output_dataset[i][y_train[i]] = 1"
   ]
  },
  {
   "cell_type": "code",
   "execution_count": 164,
   "id": "0176ae55",
   "metadata": {},
   "outputs": [],
   "source": [
    "lr, hidden_size, iteration = 0.01, 100, 300\n",
    "batch_size = 50"
   ]
  },
  {
   "cell_type": "code",
   "execution_count": 278,
   "id": "f114f94d",
   "metadata": {},
   "outputs": [],
   "source": [
    "np.random.seed(2)\n",
    "weight = 0.01 * (np.random.random((max(vocab) + 1, max(y_train) + 1)))\n",
    "# weight_1_2 = 0.01 * (np.random.random((hidden_size, max(y_train))) * 2 - 1)"
   ]
  },
  {
   "cell_type": "code",
   "execution_count": 279,
   "id": "b118d543",
   "metadata": {
    "scrolled": true
   },
   "outputs": [
    {
     "name": "stdout",
     "output_type": "stream",
     "text": [
      "I: 8981 Error: 1.2645919300993658\n",
      "I: 8981 Error: 1.1895336768682476\n",
      "I: 8981 Error: 1.1673254965783453\n",
      "I: 8981 Error: 1.157624818107204\n",
      "I: 8981 Error: 1.1525987123608736\n",
      "I: 8981 Error: 1.1497467131085548\n",
      "I: 8981 Error: 1.1480466680206898\n",
      "I: 8981 Error: 1.1470119178201634\n",
      "I: 8981 Error: 1.1463852919961335\n",
      "I: 8981 Error: 1.1460201826876788\n",
      "I: 8981 Error: 1.1458280703447847\n",
      "I: 8981 Error: 1.1457530638469366\n"
     ]
    }
   ],
   "source": [
    "for _ in range(12):\n",
    "    for i in range(input_dataset.shape[0]):\n",
    "#     i = 1\n",
    "#         pred = input_dataset[i].dot(weight)\n",
    "        pred = np.sum(weight[list(set(x_train[0]))], axis=0)\n",
    "        \n",
    "        delta = pred - output_dataset[i]\n",
    "        weight_delta = delta * weight\n",
    "        weight -= lr * (pred * weight_delta)\n",
    "#         break\n",
    "#     break\n",
    "\n",
    "\n",
    "\n",
    "#         if i % 1000 == 0:\n",
    "    error = np.sum((pred - output_dataset[i])**2)\n",
    "    print(f'I: {i} Error: {error}')"
   ]
  },
  {
   "cell_type": "code",
   "execution_count": 296,
   "id": "33948a3e",
   "metadata": {},
   "outputs": [],
   "source": [
    "pred = np.sum(weight[list(set(x_test[0]))], axis=0)"
   ]
  },
  {
   "cell_type": "code",
   "execution_count": 297,
   "id": "a8cac1f5",
   "metadata": {},
   "outputs": [
    {
     "data": {
      "text/plain": [
       "3"
      ]
     },
     "execution_count": 297,
     "metadata": {},
     "output_type": "execute_result"
    }
   ],
   "source": [
    "np.argmax(pred)"
   ]
  },
  {
   "cell_type": "code",
   "execution_count": 298,
   "id": "e8cb700f",
   "metadata": {},
   "outputs": [
    {
     "data": {
      "text/plain": [
       "3"
      ]
     },
     "execution_count": 298,
     "metadata": {},
     "output_type": "execute_result"
    }
   ],
   "source": [
    "y_test[0]"
   ]
  },
  {
   "cell_type": "code",
   "execution_count": null,
   "id": "08f41603",
   "metadata": {},
   "outputs": [],
   "source": []
  },
  {
   "cell_type": "code",
   "execution_count": 393,
   "id": "ddcbfb93",
   "metadata": {},
   "outputs": [],
   "source": [
    "for i in range(iteration):\n",
    "    layer_0 = input_dataset[0]\n",
    "    layer_1 = relu(layer_0 * weight_0_1.T[0])\n",
    "#     layer_2 = layer_1.dot(weight_1_2.T[0]) + 1\n",
    "#     layer_2_delta = layer_2 - output_dataset\n",
    "#     layer_1_delta = layer_2_delta.dot(weight_1_2.T)\n",
    "    \n",
    "#     weight_1_2 -= lr * layer_2_delta * layer_2\n",
    "#     weight_0_1 -= lr\n",
    "    break"
   ]
  },
  {
   "cell_type": "code",
   "execution_count": 394,
   "id": "f9cf1ed8",
   "metadata": {},
   "outputs": [
    {
     "data": {
      "text/plain": [
       "(30981,)"
      ]
     },
     "execution_count": 394,
     "metadata": {},
     "output_type": "execute_result"
    }
   ],
   "source": [
    "layer_0.shape"
   ]
  },
  {
   "cell_type": "code",
   "execution_count": 387,
   "id": "fc1e6d09",
   "metadata": {},
   "outputs": [
    {
     "data": {
      "text/plain": [
       "(1, 30981)"
      ]
     },
     "execution_count": 387,
     "metadata": {},
     "output_type": "execute_result"
    }
   ],
   "source": [
    "input_dataset[0].reshape(1, -1).shape"
   ]
  },
  {
   "cell_type": "code",
   "execution_count": 389,
   "id": "190dba79",
   "metadata": {},
   "outputs": [
    {
     "data": {
      "text/plain": [
       "array([-0.16595599, -0.        ,  0.        , ..., -0.        ,\n",
       "        0.        , -0.        ])"
      ]
     },
     "execution_count": 389,
     "metadata": {},
     "output_type": "execute_result"
    }
   ],
   "source": [
    "input_dataset[0] * weight_0_1.T[0]"
   ]
  },
  {
   "cell_type": "code",
   "execution_count": 409,
   "id": "ac2f4bbb",
   "metadata": {},
   "outputs": [],
   "source": [
    "weight = 0.1 * (np.random.random((max(vocab), max(y_train))) * 2 - 1)"
   ]
  },
  {
   "cell_type": "code",
   "execution_count": 418,
   "id": "7e576dae",
   "metadata": {},
   "outputs": [],
   "source": [
    "inputs = input_dataset[0]\n",
    "goal = output_dataset[0]"
   ]
  },
  {
   "cell_type": "code",
   "execution_count": 425,
   "id": "8b928c95",
   "metadata": {},
   "outputs": [],
   "source": [
    "prediction = inputs.dot(weight)"
   ]
  },
  {
   "cell_type": "code",
   "execution_count": 426,
   "id": "a06b46b3",
   "metadata": {},
   "outputs": [],
   "source": [
    "delta = prediction - goal"
   ]
  },
  {
   "cell_type": "code",
   "execution_count": 427,
   "id": "09370d75",
   "metadata": {},
   "outputs": [
    {
     "ename": "ValueError",
     "evalue": "operands could not be broadcast together with shapes (30981,) (45,) ",
     "output_type": "error",
     "traceback": [
      "\u001b[1;31m---------------------------------------------------------------------------\u001b[0m",
      "\u001b[1;31mValueError\u001b[0m                                Traceback (most recent call last)",
      "Input \u001b[1;32mIn [427]\u001b[0m, in \u001b[0;36m<cell line: 1>\u001b[1;34m()\u001b[0m\n\u001b[1;32m----> 1\u001b[0m weight \u001b[38;5;241m-\u001b[39m\u001b[38;5;241m=\u001b[39m lr \u001b[38;5;241m*\u001b[39m (\u001b[43minputs\u001b[49m\u001b[43m \u001b[49m\u001b[38;5;241;43m*\u001b[39;49m\u001b[43m \u001b[49m\u001b[43mdelta\u001b[49m)\n",
      "\u001b[1;31mValueError\u001b[0m: operands could not be broadcast together with shapes (30981,) (45,) "
     ]
    }
   ],
   "source": [
    "weight -= lr * (inputs * delta)"
   ]
  },
  {
   "cell_type": "code",
   "execution_count": 278,
   "id": "1b6b7eb4",
   "metadata": {
    "scrolled": true
   },
   "outputs": [
    {
     "ename": "ValueError",
     "evalue": "shapes (50,30981) and (100,50) not aligned: 30981 (dim 1) != 100 (dim 0)",
     "output_type": "error",
     "traceback": [
      "\u001b[1;31m---------------------------------------------------------------------------\u001b[0m",
      "\u001b[1;31mValueError\u001b[0m                                Traceback (most recent call last)",
      "Input \u001b[1;32mIn [278]\u001b[0m, in \u001b[0;36m<cell line: 1>\u001b[1;34m()\u001b[0m\n\u001b[0;32m      3\u001b[0m     batch_end \u001b[38;5;241m=\u001b[39m i \u001b[38;5;241m+\u001b[39m batch_size\n\u001b[0;32m      4\u001b[0m     layer_0 \u001b[38;5;241m=\u001b[39m input_dataset[batch_start:batch_end]\n\u001b[1;32m----> 5\u001b[0m     layer_1 \u001b[38;5;241m=\u001b[39m \u001b[43mlayer_0\u001b[49m\u001b[38;5;241;43m.\u001b[39;49m\u001b[43mdot\u001b[49m\u001b[43m(\u001b[49m\u001b[43mweight_0_1\u001b[49m\u001b[43m[\u001b[49m\u001b[43mbatch_start\u001b[49m\u001b[43m:\u001b[49m\u001b[43mbatch_end\u001b[49m\u001b[43m]\u001b[49m\u001b[38;5;241;43m.\u001b[39;49m\u001b[43mT\u001b[49m\u001b[43m)\u001b[49m\n\u001b[0;32m      6\u001b[0m \u001b[38;5;66;03m#     layer_0 = np.sum(weight_0_1[x_train[batch_start:batch_end]], axis=0)\u001b[39;00m\n\u001b[0;32m      7\u001b[0m     \u001b[38;5;28;01mbreak\u001b[39;00m\n",
      "\u001b[1;31mValueError\u001b[0m: shapes (50,30981) and (100,50) not aligned: 30981 (dim 1) != 100 (dim 0)"
     ]
    }
   ],
   "source": [
    "# for i in range(int(x_train.shape[0] / batch_size)):\n",
    "#     batch_start = i\n",
    "#     batch_end = i + batch_size\n",
    "#     layer_0 = input_dataset[batch_start:batch_end]\n",
    "#     layer_1 = layer_0.dot(weight_0_1[batch_start:batch_end].T)\n",
    "# #     layer_0 = np.sum(weight_0_1[x_train[batch_start:batch_end]], axis=0)\n",
    "#     break"
   ]
  },
  {
   "cell_type": "code",
   "execution_count": 279,
   "id": "17e86b18",
   "metadata": {},
   "outputs": [
    {
     "data": {
      "text/plain": [
       "(8982, 30981)"
      ]
     },
     "execution_count": 279,
     "metadata": {},
     "output_type": "execute_result"
    }
   ],
   "source": [
    "input_dataset.shape"
   ]
  },
  {
   "cell_type": "code",
   "execution_count": 280,
   "id": "66cf7d5b",
   "metadata": {
    "scrolled": true
   },
   "outputs": [
    {
     "data": {
      "text/plain": [
       "(30981, 100)"
      ]
     },
     "execution_count": 280,
     "metadata": {},
     "output_type": "execute_result"
    }
   ],
   "source": [
    "weight_0_1.shape"
   ]
  },
  {
   "cell_type": "code",
   "execution_count": 281,
   "id": "17d0b05e",
   "metadata": {},
   "outputs": [
    {
     "data": {
      "text/plain": [
       "array([[-1.36609709e+00,  1.25057903e+00, -3.06690752e+00, ...,\n",
       "         4.16200721e+00, -3.38431284e-01,  3.63714966e+00],\n",
       "       [-6.69096406e+00, -3.30745821e+00, -4.56240245e+00, ...,\n",
       "         2.01745731e+00,  3.26589443e+00,  1.21324261e+00],\n",
       "       [ 5.96198326e+00, -3.67168313e+00, -6.89913564e+00, ...,\n",
       "         1.87433901e+00,  8.82155983e+00,  2.79774846e+00],\n",
       "       ...,\n",
       "       [-3.18329881e+00, -6.19099525e+00, -3.10651600e+00, ...,\n",
       "        -4.38427504e-01, -4.95978782e+00,  4.66763828e+00],\n",
       "       [-7.46424736e-01,  3.42375593e-03, -6.59153266e-01, ...,\n",
       "         1.65738494e+00,  1.58488827e+00,  2.75294161e+00],\n",
       "       [ 3.23497973e+00, -2.02452168e+00,  2.82274669e+00, ...,\n",
       "         1.08338077e+00,  6.18545497e+00,  8.21180801e-01]])"
      ]
     },
     "execution_count": 281,
     "metadata": {},
     "output_type": "execute_result"
    }
   ],
   "source": [
    "input_dataset.dot(weight_0_1)"
   ]
  },
  {
   "cell_type": "code",
   "execution_count": 171,
   "id": "83eacb51",
   "metadata": {},
   "outputs": [
    {
     "data": {
      "text/plain": [
       "array([1., 0., 0., ..., 0., 0., 0.])"
      ]
     },
     "execution_count": 171,
     "metadata": {},
     "output_type": "execute_result"
    }
   ],
   "source": [
    "input_dataset[0]"
   ]
  },
  {
   "cell_type": "code",
   "execution_count": null,
   "id": "42144457",
   "metadata": {},
   "outputs": [],
   "source": []
  },
  {
   "cell_type": "code",
   "execution_count": 188,
   "id": "ab5eaca1",
   "metadata": {
    "scrolled": true
   },
   "outputs": [
    {
     "data": {
      "text/plain": [
       "array([[1, 1, 0, 0, 1, 1],\n",
       "       [1, 1, 1, 0, 0, 1],\n",
       "       [0, 1, 1, 0, 0, 1],\n",
       "       [0, 0, 0, 1, 0, 0],\n",
       "       [1, 0, 0, 0, 1, 0]])"
      ]
     },
     "execution_count": 188,
     "metadata": {},
     "output_type": "execute_result"
    }
   ],
   "source": [
    "np.random.seed(1)\n",
    "x = np.random.randint(0, high=2, size=(5, 6))\n",
    "x"
   ]
  },
  {
   "cell_type": "code",
   "execution_count": 191,
   "id": "91b57f5d",
   "metadata": {},
   "outputs": [
    {
     "data": {
      "text/plain": [
       "array([[1., 1., 1.],\n",
       "       [1., 1., 1.],\n",
       "       [1., 1., 1.],\n",
       "       [1., 1., 1.],\n",
       "       [1., 1., 1.],\n",
       "       [1., 1., 1.]])"
      ]
     },
     "execution_count": 191,
     "metadata": {},
     "output_type": "execute_result"
    }
   ],
   "source": [
    "y = np.ones((6, 3))\n",
    "y"
   ]
  },
  {
   "cell_type": "code",
   "execution_count": 194,
   "id": "f140b268",
   "metadata": {},
   "outputs": [
    {
     "ename": "SyntaxError",
     "evalue": "invalid syntax (3586347682.py, line 1)",
     "output_type": "error",
     "traceback": [
      "\u001b[1;36m  Input \u001b[1;32mIn [194]\u001b[1;36m\u001b[0m\n\u001b[1;33m    y[x[0], axis=0]\u001b[0m\n\u001b[1;37m                ^\u001b[0m\n\u001b[1;31mSyntaxError\u001b[0m\u001b[1;31m:\u001b[0m invalid syntax\n"
     ]
    }
   ],
   "source": [
    "y[x[0], axis=0]"
   ]
  },
  {
   "cell_type": "code",
   "execution_count": 193,
   "id": "f14b26a4",
   "metadata": {},
   "outputs": [
    {
     "data": {
      "text/plain": [
       "array([1, 1, 0, 0, 1, 1])"
      ]
     },
     "execution_count": 193,
     "metadata": {},
     "output_type": "execute_result"
    }
   ],
   "source": [
    "x[0]"
   ]
  }
 ],
 "metadata": {
  "kernelspec": {
   "display_name": "Python 3 (ipykernel)",
   "language": "python",
   "name": "python3"
  },
  "language_info": {
   "codemirror_mode": {
    "name": "ipython",
    "version": 3
   },
   "file_extension": ".py",
   "mimetype": "text/x-python",
   "name": "python",
   "nbconvert_exporter": "python",
   "pygments_lexer": "ipython3",
   "version": "3.9.12"
  }
 },
 "nbformat": 4,
 "nbformat_minor": 5
}
