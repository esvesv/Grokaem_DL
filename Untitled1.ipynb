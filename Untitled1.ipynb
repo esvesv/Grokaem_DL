{
 "cells": [
  {
   "cell_type": "code",
   "execution_count": 1,
   "id": "2d6d57d9",
   "metadata": {},
   "outputs": [],
   "source": [
    "weight = 0.1\n",
    "def neural_network(input, weight):\n",
    "    prediction = input * weight\n",
    "    return prediction"
   ]
  },
  {
   "cell_type": "code",
   "execution_count": 2,
   "id": "8ca9e593",
   "metadata": {},
   "outputs": [
    {
     "data": {
      "text/plain": [
       "0.8500000000000001"
      ]
     },
     "execution_count": 2,
     "metadata": {},
     "output_type": "execute_result"
    }
   ],
   "source": [
    "neural_network(8.5, weight)"
   ]
  },
  {
   "cell_type": "markdown",
   "id": "4524f077",
   "metadata": {},
   "source": [
    "---"
   ]
  },
  {
   "cell_type": "code",
   "execution_count": 5,
   "id": "ae6a0cce",
   "metadata": {},
   "outputs": [],
   "source": [
    "import numpy as np\n",
    "\n",
    "weights = np.array([0.1, 0.2, 0]).reshape(-1, 1)\n",
    "\n",
    "toes = np.array([8.5, 9.5, 9.9, 9.0])\n",
    "wlrec = np.array([0.65, 0.8, 0.8, 0.9])\n",
    "nfans = np.array([1.2, 1.3, 0.5, 1.0])"
   ]
  },
  {
   "cell_type": "code",
   "execution_count": 9,
   "id": "3bc8c835",
   "metadata": {},
   "outputs": [],
   "source": [
    "inputs = np.array([toes, wlrec, nfans]).T"
   ]
  },
  {
   "cell_type": "code",
   "execution_count": 10,
   "id": "c6f9ae90",
   "metadata": {},
   "outputs": [
    {
     "data": {
      "text/plain": [
       "array([[8.5 , 0.65, 1.2 ],\n",
       "       [9.5 , 0.8 , 1.3 ],\n",
       "       [9.9 , 0.8 , 0.5 ],\n",
       "       [9.  , 0.9 , 1.  ]])"
      ]
     },
     "execution_count": 10,
     "metadata": {},
     "output_type": "execute_result"
    }
   ],
   "source": [
    "inputs"
   ]
  },
  {
   "cell_type": "code",
   "execution_count": 11,
   "id": "cb5c38e0",
   "metadata": {},
   "outputs": [
    {
     "data": {
      "text/plain": [
       "array([[0.98],\n",
       "       [1.11],\n",
       "       [1.15],\n",
       "       [1.08]])"
      ]
     },
     "execution_count": 11,
     "metadata": {},
     "output_type": "execute_result"
    }
   ],
   "source": [
    "inputs.dot(weights)"
   ]
  },
  {
   "cell_type": "markdown",
   "id": "9a6a5685",
   "metadata": {},
   "source": [
    "Один вход, несколько выходов"
   ]
  },
  {
   "cell_type": "code",
   "execution_count": 19,
   "id": "b3263bda",
   "metadata": {},
   "outputs": [
    {
     "data": {
      "text/plain": [
       "array([[0.195, 0.13 , 0.585]])"
      ]
     },
     "execution_count": 19,
     "metadata": {},
     "output_type": "execute_result"
    }
   ],
   "source": [
    "weights = np.array([[0.3, 0.2, 0.9]])\n",
    "inputs = np.array([[0.65]])\n",
    "prediction = inputs.dot(weights)\n",
    "prediction"
   ]
  },
  {
   "cell_type": "markdown",
   "id": "7295d681",
   "metadata": {},
   "source": [
    "Несколько входов, несколько выходов"
   ]
  },
  {
   "cell_type": "code",
   "execution_count": 23,
   "id": "2b41479e",
   "metadata": {},
   "outputs": [
    {
     "data": {
      "text/plain": [
       "array([[0.555, 0.98 , 0.965],\n",
       "       [0.64 , 1.11 , 1.17 ],\n",
       "       [0.92 , 1.15 , 1.09 ],\n",
       "       [0.69 , 1.08 , 1.27 ]])"
      ]
     },
     "execution_count": 23,
     "metadata": {},
     "output_type": "execute_result"
    }
   ],
   "source": [
    "weights = np.array([\n",
    "                    [0.1, 0.1, -0.3],\n",
    "                    [0.1, 0.2, 0.0],\n",
    "                    [0.0, 1.3, 0.1]\n",
    "]).T\n",
    "\n",
    "toes = np.array([8.5, 9.5, 9.9, 9.0])\n",
    "wlrec = np.array([0.65, 0.8, 0.8, 0.9])\n",
    "nfans = np.array([1.2, 1.3, 0.5, 1.0])\n",
    "\n",
    "inputs = np.array([toes, wlrec, nfans]).T\n",
    "\n",
    "prediction = inputs.dot(weights)\n",
    "prediction"
   ]
  },
  {
   "cell_type": "code",
   "execution_count": 26,
   "id": "ea5ec0a9",
   "metadata": {},
   "outputs": [
    {
     "data": {
      "text/plain": [
       "array([[ 0.2135,  0.145 ,  0.5065],\n",
       "       [ 0.204 ,  0.158 ,  0.53  ],\n",
       "       [-0.584 ,  0.018 , -0.462 ],\n",
       "       [-0.015 ,  0.116 ,  0.253 ]])"
      ]
     },
     "execution_count": 26,
     "metadata": {},
     "output_type": "execute_result"
    }
   ],
   "source": [
    "ih_wgt = np.array([\n",
    "                    [0.1, 0.2, -0.1],\n",
    "                    [-0.1, 0.1, 0.9],\n",
    "                    [0.1, 0.4, 0.1]\n",
    "]).T\n",
    "\n",
    "hp_wgt = np.array([\n",
    "                    [0.3, 1.1, -0.3],\n",
    "                    [0.1, 0.2, 0.0],\n",
    "                    [0.0, 1.3, 0.1]\n",
    "]).T\n",
    "\n",
    "hid = inputs.dot(ih_wgt)\n",
    "pred = hid.dot(hp_wgt)\n",
    "pred"
   ]
  },
  {
   "cell_type": "markdown",
   "id": "75ed92be",
   "metadata": {},
   "source": [
    "Обучение сети с одним входом и одним выходом"
   ]
  },
  {
   "cell_type": "code",
   "execution_count": 46,
   "id": "b40a031d",
   "metadata": {},
   "outputs": [
    {
     "name": "stdout",
     "output_type": "stream",
     "text": [
      "Error: 0.30250000000000005 Prediction: 0.25 Weight: 0.775\n",
      "Error: 0.03028415679931642 Prediction: 0.6259765625 Weight: 1.33896484375\n",
      "Error: 0.0030318352166796153 Prediction: 0.7449378967285156 Weight: 1.5174068450927733\n",
      "Error: 0.000303525861459885 Prediction: 0.7825780063867569 Weight: 1.57386700958013538\n",
      "Error: 3.038685878049206e-05 Prediction: 0.7944875723333098 Weight: 1.59173135849996465\n",
      "Error: 5.408208020258491e-06 Prediction: 0.7976744445781151 Weight: 1.59651166686717265"
     ]
    }
   ],
   "source": [
    "import sys\n",
    "import time\n",
    "weight = np.array([[0.5]])\n",
    "inputs = np.array([[0.5]])\n",
    "goal_pred = np.array([[0.8]])\n",
    "\n",
    "for i in range(20):\n",
    "    prediction = inputs.dot(weight)\n",
    "    error = np.sum((prediction - goal_pred) ** 2)\n",
    "    weight_delta = inputs.dot(prediction - goal_pred)\n",
    "    weight -= weight_delta\n",
    "    sys.stdout.write(f'\\rError: {error} Prediction: {np.sum(prediction)} Weight: {np.sum(weight)}')\n",
    "    time.sleep(0.5)\n",
    "    if i % 4 == 0:\n",
    "        print()"
   ]
  },
  {
   "cell_type": "code",
   "execution_count": null,
   "id": "1b6d3f59",
   "metadata": {},
   "outputs": [],
   "source": [
    "raw"
   ]
  }
 ],
 "metadata": {
  "kernelspec": {
   "display_name": "Python 3 (ipykernel)",
   "language": "python",
   "name": "python3"
  },
  "language_info": {
   "codemirror_mode": {
    "name": "ipython",
    "version": 3
   },
   "file_extension": ".py",
   "mimetype": "text/x-python",
   "name": "python",
   "nbconvert_exporter": "python",
   "pygments_lexer": "ipython3",
   "version": "3.9.12"
  }
 },
 "nbformat": 4,
 "nbformat_minor": 5
}
