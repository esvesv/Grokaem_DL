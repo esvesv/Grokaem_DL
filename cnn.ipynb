{
 "cells": [
  {
   "cell_type": "code",
   "execution_count": 1,
   "id": "d831113b",
   "metadata": {},
   "outputs": [],
   "source": [
    "import sys, numpy as np\n",
    "from keras.datasets import mnist\n",
    "import matplotlib.pyplot as plt\n",
    "%matplotlib inline\n",
    "\n",
    "(x_train, y_train), (x_test, y_test) = mnist.load_data()"
   ]
  },
  {
   "cell_type": "code",
   "execution_count": 2,
   "id": "3b589689",
   "metadata": {},
   "outputs": [],
   "source": [
    "relu = lambda x: (x > 0) * x\n",
    "sigmoid = lambda x: 1 / (1 + np.exp(-x))\n",
    "tanh = lambda x: np.tanh(x)"
   ]
  },
  {
   "cell_type": "code",
   "execution_count": 3,
   "id": "9c8858cd",
   "metadata": {},
   "outputs": [],
   "source": [
    "import json\n",
    "import pickle"
   ]
  },
  {
   "cell_type": "code",
   "execution_count": 4,
   "id": "196bffd2",
   "metadata": {},
   "outputs": [
    {
     "data": {
      "text/plain": [
       "(60000, 28, 28)"
      ]
     },
     "execution_count": 4,
     "metadata": {},
     "output_type": "execute_result"
    }
   ],
   "source": [
    "x_train.shape"
   ]
  },
  {
   "cell_type": "code",
   "execution_count": 5,
   "id": "77109506",
   "metadata": {
    "scrolled": true
   },
   "outputs": [],
   "source": [
    "# fig = plt.figure(figsize=(10, 8))\n",
    "images = x_train[:1000]\n",
    "# ax = fig.add_axes([1, 1, 1, 1])\n",
    "# ax.imshow(image, cmap='Greys', interpolation='None')\n",
    "# ax.grid()"
   ]
  },
  {
   "cell_type": "code",
   "execution_count": 6,
   "id": "2c9097a6",
   "metadata": {},
   "outputs": [],
   "source": [
    "size_batch = images.shape[0]"
   ]
  },
  {
   "cell_type": "code",
   "execution_count": 7,
   "id": "8e2423a5",
   "metadata": {},
   "outputs": [],
   "source": [
    "width, height = 3, 3\n",
    "kernel_width = images.shape[2] - width\n",
    "kernel_height = images.shape[1] - height\n",
    "num_kernels = 16"
   ]
  },
  {
   "cell_type": "code",
   "execution_count": 8,
   "id": "04a5d011",
   "metadata": {},
   "outputs": [],
   "source": [
    "# size_batch"
   ]
  },
  {
   "cell_type": "code",
   "execution_count": 8,
   "id": "d6e3bbb2",
   "metadata": {},
   "outputs": [],
   "source": [
    "# inputs_images = []\n",
    "# for image in images:\n",
    "#     image_parts = []\n",
    "#     for i in range(image.shape[0] - height):\n",
    "#         for j in range(image.shape[1] - width):\n",
    "#             image_parts.append(image[i: i + height, j: j + height].reshape(1, -1) / 255)\n",
    "#     inputs_images.append(image_parts)\n",
    "\n",
    "# inputs = np.array(inputs_images)"
   ]
  },
  {
   "cell_type": "code",
   "execution_count": 10,
   "id": "af9e74b9",
   "metadata": {},
   "outputs": [],
   "source": [
    "# inputs = inputs.reshape(size_batch, kernel_width * kernel_height, width * height)"
   ]
  },
  {
   "cell_type": "code",
   "execution_count": 113,
   "id": "1b04e1b5",
   "metadata": {},
   "outputs": [],
   "source": [
    "# with open('inputs.json', 'w', encoding='utf-8') as file:\n",
    "#     json.dump(inputs.tolist(), file, indent=4, ensure_ascii=False)"
   ]
  },
  {
   "cell_type": "code",
   "execution_count": 12,
   "id": "019d3275",
   "metadata": {},
   "outputs": [],
   "source": [
    "# with open('inputs1000.pkl', 'wb') as file:\n",
    "#     pickle.dump(inputs, file)"
   ]
  },
  {
   "cell_type": "code",
   "execution_count": 13,
   "id": "33edd266",
   "metadata": {},
   "outputs": [],
   "source": [
    "with open('inputs1000.pkl', 'rb') as file:\n",
    "    inputs = pickle.load(file)"
   ]
  },
  {
   "cell_type": "code",
   "execution_count": 15,
   "id": "8b103804",
   "metadata": {},
   "outputs": [],
   "source": [
    "np.random.seed(1)\n",
    "weights = 0.2 * np.random.random((width * height, num_kernels)) - 0.1"
   ]
  },
  {
   "cell_type": "code",
   "execution_count": 17,
   "id": "835c958f",
   "metadata": {},
   "outputs": [],
   "source": [
    "func = lambda x: max(x)"
   ]
  },
  {
   "cell_type": "code",
   "execution_count": 18,
   "id": "9d595ffd",
   "metadata": {
    "scrolled": true
   },
   "outputs": [],
   "source": [
    "cnn = relu(inputs.dot(weights).reshape(size_batch, kernel_width * kernel_height, num_kernels))\n",
    "cnn = np.array([list(map(func, x)) for x in cnn])\n",
    "# cnn = cnn.reshape(size_batch, 25, 25)"
   ]
  },
  {
   "cell_type": "code",
   "execution_count": 19,
   "id": "e54785ed",
   "metadata": {},
   "outputs": [
    {
     "data": {
      "text/plain": [
       "(1000, 625)"
      ]
     },
     "execution_count": 19,
     "metadata": {},
     "output_type": "execute_result"
    }
   ],
   "source": [
    "cnn.shape"
   ]
  },
  {
   "cell_type": "code",
   "execution_count": 20,
   "id": "a0b32902",
   "metadata": {},
   "outputs": [
    {
     "data": {
      "text/plain": [
       "array([0.        , 0.        , 0.        , 0.        , 0.        ,\n",
       "       0.        , 0.        , 0.        , 0.        , 0.        ,\n",
       "       0.        , 0.        , 0.        , 0.        , 0.        ,\n",
       "       0.        , 0.        , 0.        , 0.        , 0.        ,\n",
       "       0.        , 0.        , 0.        , 0.        , 0.        ,\n",
       "       0.        , 0.        , 0.        , 0.        , 0.        ,\n",
       "       0.        , 0.        , 0.        , 0.        , 0.        ,\n",
       "       0.        , 0.        , 0.        , 0.        , 0.        ,\n",
       "       0.        , 0.        , 0.        , 0.        , 0.        ,\n",
       "       0.        , 0.        , 0.        , 0.        , 0.        ,\n",
       "       0.        , 0.        , 0.        , 0.        , 0.        ,\n",
       "       0.        , 0.        , 0.        , 0.        , 0.        ,\n",
       "       0.        , 0.        , 0.        , 0.        , 0.        ,\n",
       "       0.        , 0.        , 0.        , 0.        , 0.        ,\n",
       "       0.        , 0.        , 0.        , 0.        , 0.        ,\n",
       "       0.        , 0.        , 0.        , 0.        , 0.        ,\n",
       "       0.        , 0.        , 0.        , 0.        , 0.        ,\n",
       "       0.00110493, 0.00723068, 0.01051176, 0.01267905, 0.05166746,\n",
       "       0.07698978, 0.10328038, 0.09473908, 0.09642709, 0.12956827,\n",
       "       0.15731709, 0.14811153, 0.1212348 , 0.04953726, 0.        ,\n",
       "       0.        , 0.        , 0.        , 0.        , 0.        ,\n",
       "       0.        , 0.01104931, 0.01927007, 0.0445906 , 0.07886156,\n",
       "       0.10174973, 0.13929537, 0.15799152, 0.18277206, 0.17668096,\n",
       "       0.21028748, 0.20393592, 0.20747051, 0.16969851, 0.1890665 ,\n",
       "       0.22836304, 0.18999593, 0.10819365, 0.04145356, 0.        ,\n",
       "       0.        , 0.        , 0.        , 0.        , 0.        ,\n",
       "       0.01804721, 0.09392034, 0.14145494, 0.17956101, 0.19902874,\n",
       "       0.21559319, 0.20947161, 0.23269332, 0.22845369, 0.18764987,\n",
       "       0.16759609, 0.1496415 , 0.13518376, 0.16388038, 0.18807036,\n",
       "       0.14236025, 0.13105956, 0.10534324, 0.03334941, 0.        ,\n",
       "       0.        , 0.        , 0.        , 0.        , 0.        ,\n",
       "       0.02076327, 0.11671421, 0.14415362, 0.18396039, 0.16152046,\n",
       "       0.14286871, 0.16463203, 0.16873102, 0.17711267, 0.18117096,\n",
       "       0.14986597, 0.20324899, 0.20575411, 0.12228178, 0.1422948 ,\n",
       "       0.12901812, 0.11855482, 0.07418212, 0.01898001, 0.        ,\n",
       "       0.        , 0.        , 0.        , 0.        , 0.        ,\n",
       "       0.0230087 , 0.14796948, 0.19590328, 0.15174208, 0.19740088,\n",
       "       0.12672188, 0.16194156, 0.20642898, 0.19477152, 0.15677139,\n",
       "       0.1429348 , 0.12170968, 0.14249193, 0.04854892, 0.0463493 ,\n",
       "       0.03933291, 0.02817422, 0.01156595, 0.        , 0.        ,\n",
       "       0.        , 0.        , 0.        , 0.        , 0.        ,\n",
       "       0.00690157, 0.10153238, 0.18965913, 0.15458027, 0.20363896,\n",
       "       0.12155009, 0.16596153, 0.20254479, 0.14628903, 0.13855275,\n",
       "       0.15816015, 0.12344133, 0.06109092, 0.        , 0.        ,\n",
       "       0.        , 0.        , 0.        , 0.        , 0.        ,\n",
       "       0.        , 0.        , 0.        , 0.        , 0.        ,\n",
       "       0.        , 0.03067364, 0.08522482, 0.07676828, 0.16971432,\n",
       "       0.16453578, 0.1143804 , 0.21148105, 0.13216289, 0.01623729,\n",
       "       0.07174066, 0.05842588, 0.04567066, 0.        , 0.        ,\n",
       "       0.        , 0.        , 0.        , 0.        , 0.        ,\n",
       "       0.        , 0.        , 0.        , 0.        , 0.        ,\n",
       "       0.        , 0.        , 0.00536789, 0.00540415, 0.09287534,\n",
       "       0.17711477, 0.10112091, 0.12396271, 0.11446086, 0.02716919,\n",
       "       0.        , 0.        , 0.        , 0.        , 0.        ,\n",
       "       0.        , 0.        , 0.        , 0.        , 0.        ,\n",
       "       0.        , 0.        , 0.        , 0.        , 0.        ,\n",
       "       0.        , 0.        , 0.        , 0.        , 0.05470553,\n",
       "       0.16771338, 0.16046855, 0.08765864, 0.1325282 , 0.11916228,\n",
       "       0.08696879, 0.04215663, 0.00039006, 0.        , 0.        ,\n",
       "       0.        , 0.        , 0.        , 0.        , 0.        ,\n",
       "       0.        , 0.        , 0.        , 0.        , 0.        ,\n",
       "       0.        , 0.        , 0.        , 0.        , 0.00421763,\n",
       "       0.0805838 , 0.19270575, 0.1163845 , 0.11206274, 0.20009589,\n",
       "       0.17967185, 0.10182268, 0.04711079, 0.00975143, 0.        ,\n",
       "       0.        , 0.        , 0.        , 0.        , 0.        ,\n",
       "       0.        , 0.        , 0.        , 0.        , 0.        ,\n",
       "       0.        , 0.        , 0.        , 0.        , 0.        ,\n",
       "       0.01341972, 0.11311992, 0.19940113, 0.13460184, 0.08690544,\n",
       "       0.17404105, 0.1617715 , 0.11471189, 0.0576457 , 0.01053154,\n",
       "       0.        , 0.        , 0.        , 0.        , 0.        ,\n",
       "       0.        , 0.        , 0.        , 0.        , 0.        ,\n",
       "       0.        , 0.        , 0.        , 0.        , 0.        ,\n",
       "       0.        , 0.03105706, 0.12170122, 0.18341229, 0.17725052,\n",
       "       0.10230001, 0.11041397, 0.17366966, 0.10900613, 0.07112069,\n",
       "       0.        , 0.        , 0.        , 0.        , 0.        ,\n",
       "       0.        , 0.        , 0.        , 0.        , 0.        ,\n",
       "       0.        , 0.        , 0.        , 0.        , 0.        ,\n",
       "       0.        , 0.        , 0.01725392, 0.08665156, 0.1556653 ,\n",
       "       0.22353105, 0.11705372, 0.14948572, 0.14961503, 0.10434754,\n",
       "       0.02496366, 0.        , 0.        , 0.        , 0.        ,\n",
       "       0.        , 0.        , 0.        , 0.        , 0.        ,\n",
       "       0.        , 0.        , 0.        , 0.        , 0.        ,\n",
       "       0.        , 0.        , 0.01694228, 0.05478196, 0.08042938,\n",
       "       0.18838247, 0.21698488, 0.15781069, 0.19206022, 0.11870155,\n",
       "       0.01070071, 0.        , 0.        , 0.        , 0.        ,\n",
       "       0.        , 0.        , 0.        , 0.        , 0.        ,\n",
       "       0.        , 0.        , 0.        , 0.        , 0.        ,\n",
       "       0.01436411, 0.0623241 , 0.11212858, 0.14966824, 0.20145245,\n",
       "       0.20191415, 0.21485712, 0.15857228, 0.20767437, 0.14962372,\n",
       "       0.0188452 , 0.        , 0.        , 0.        , 0.        ,\n",
       "       0.        , 0.        , 0.        , 0.        , 0.        ,\n",
       "       0.        , 0.        , 0.        , 0.00883945, 0.0467961 ,\n",
       "       0.10182115, 0.1348193 , 0.18479844, 0.17957106, 0.14376172,\n",
       "       0.15467932, 0.19169399, 0.186669  , 0.12818319, 0.05786241,\n",
       "       0.00059313, 0.        , 0.        , 0.        , 0.        ,\n",
       "       0.        , 0.        , 0.        , 0.        , 0.        ,\n",
       "       0.        , 0.00847114, 0.02891684, 0.09094302, 0.12869386,\n",
       "       0.17481448, 0.17148833, 0.15087476, 0.16695084, 0.18252048,\n",
       "       0.18394997, 0.14309784, 0.11965615, 0.12286091, 0.05397441,\n",
       "       0.        , 0.        , 0.        , 0.        , 0.        ,\n",
       "       0.        , 0.        , 0.        , 0.        , 0.00662959,\n",
       "       0.06658761, 0.11385013, 0.1513038 , 0.16756879, 0.18431508,\n",
       "       0.15246507, 0.17601629, 0.18034175, 0.18056897, 0.14252506,\n",
       "       0.12300398, 0.12575695, 0.08260771, 0.02313189, 0.        ,\n",
       "       0.        , 0.        , 0.        , 0.        , 0.        ,\n",
       "       0.        , 0.        , 0.02025707, 0.07436936, 0.12062073,\n",
       "       0.14526395, 0.20298148, 0.20380083, 0.16879799, 0.17466784,\n",
       "       0.17653593, 0.20054121, 0.15947475, 0.12412151, 0.12397622,\n",
       "       0.08205419, 0.02461474, 0.00059313, 0.        , 0.        ,\n",
       "       0.        , 0.        , 0.        , 0.        , 0.        ,\n",
       "       0.        , 0.        , 0.04574937, 0.10069029, 0.17730463,\n",
       "       0.17300378, 0.17797111, 0.16610565, 0.17840856, 0.16545925,\n",
       "       0.15369066, 0.11668625, 0.11931596, 0.08044703, 0.02639426,\n",
       "       0.00266906, 0.        , 0.        , 0.        , 0.        ,\n",
       "       0.        , 0.        , 0.        , 0.        , 0.        ,\n",
       "       0.        , 0.        , 0.06063808, 0.15312996, 0.17562118,\n",
       "       0.14361615, 0.14555749, 0.12914528, 0.14225882, 0.12944289,\n",
       "       0.13115291, 0.11027869, 0.04270524, 0.00326219, 0.        ,\n",
       "       0.        , 0.        , 0.        , 0.        , 0.        ,\n",
       "       0.        , 0.        , 0.        , 0.        , 0.        ,\n",
       "       0.        , 0.        , 0.05214518, 0.13715355, 0.16068132,\n",
       "       0.15120822, 0.14140172, 0.13238867, 0.09751536, 0.07853095,\n",
       "       0.04389159, 0.004745  , 0.        , 0.        , 0.        ,\n",
       "       0.        , 0.        , 0.        , 0.        , 0.        ,\n",
       "       0.        , 0.        , 0.        , 0.        , 0.        ])"
      ]
     },
     "execution_count": 20,
     "metadata": {},
     "output_type": "execute_result"
    }
   ],
   "source": [
    "cnn[0]"
   ]
  },
  {
   "cell_type": "code",
   "execution_count": null,
   "id": "98c31846",
   "metadata": {},
   "outputs": [],
   "source": []
  },
  {
   "cell_type": "code",
   "execution_count": null,
   "id": "c7974ff1",
   "metadata": {},
   "outputs": [],
   "source": []
  },
  {
   "cell_type": "code",
   "execution_count": null,
   "id": "e28ca331",
   "metadata": {},
   "outputs": [],
   "source": []
  },
  {
   "cell_type": "code",
   "execution_count": null,
   "id": "a1ba7270",
   "metadata": {},
   "outputs": [],
   "source": []
  },
  {
   "cell_type": "code",
   "execution_count": null,
   "id": "0372cd3e",
   "metadata": {},
   "outputs": [],
   "source": []
  },
  {
   "cell_type": "code",
   "execution_count": 75,
   "id": "3a01c812",
   "metadata": {},
   "outputs": [
    {
     "data": {
      "image/png": "[encoded data removed]",
      "text/plain": [
       "<Figure size 720x576 with 1 Axes>"
      ]
     },
     "metadata": {
      "needs_background": "light"
     },
     "output_type": "display_data"
    }
   ],
   "source": [
    "fig = plt.figure(figsize=(10, 8))\n",
    "image = inputs[144]\n",
    "ax = fig.add_axes([1, 1, 1, 1])\n",
    "ax.imshow(image, cmap='Greys', interpolation='None')\n",
    "ax.grid()"
   ]
  }
 ],
 "metadata": {
  "kernelspec": {
   "display_name": "Python 3 (ipykernel)",
   "language": "python",
   "name": "python3"
  },
  "language_info": {
   "codemirror_mode": {
    "name": "ipython",
    "version": 3
   },
   "file_extension": ".py",
   "mimetype": "text/x-python",
   "name": "python",
   "nbconvert_exporter": "python",
   "pygments_lexer": "ipython3",
   "version": "3.9.12"
  }
 },
 "nbformat": 4,
 "nbformat_minor": 5
}
