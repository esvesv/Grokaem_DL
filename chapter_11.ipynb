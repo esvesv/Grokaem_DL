{
 "cells": [
  {
   "cell_type": "code",
   "execution_count": 41,
   "id": "f50794fe",
   "metadata": {},
   "outputs": [],
   "source": [
    "with open('Grokking-Deep-Learning/reviews.txt', encoding='utf-8') as file:\n",
    "    raw_reviews = file.readlines()                    # отзывы\n",
    "    \n",
    "with open('Grokking-Deep-Learning/labels.txt', encoding='utf-8') as file:\n",
    "    raw_labels = file.readlines()                    # метка отзыва (positive/negative)\n",
    "    \n",
    "tokens = list(map(lambda x: set(x.split(' ')), raw_reviews))   # список множеств содержащих слова из каждого отзыва\n",
    "\n",
    "vocab = set()\n",
    "for sent in tokens:               # попробовать сделать через объединение множеств\n",
    "    for word in sent:\n",
    "        if len(word) > 0:\n",
    "            vocab.add(word)\n",
    "\n",
    "vocab = list(vocab)               # список слов встретившихся во всех отзывах\n",
    "\n",
    "word2index = {}                   # словарь: слово --> индекс (уникальный номер в словаре)\n",
    "\n",
    "for i, word in enumerate(vocab):\n",
    "    word2index[word] = i\n",
    "    \n",
    "input_dataset = []\n",
    "\n",
    "for sent in tokens:\n",
    "    sent_indices = []\n",
    "    for word in sent:\n",
    "        try:\n",
    "            sent_indices.append(word2index[word])\n",
    "        except:\n",
    "            ''\n",
    "    input_dataset.append(list(set(sent_indices)))  # список отзывов закодированных числами (цифровая копия tokens)\n",
    "    \n",
    "target_dataset = []                                # список меток отзывов: positive - 1, negative - 0\n",
    "\n",
    "for label in raw_labels:\n",
    "    if label == 'positive\\n':\n",
    "        target_dataset.append(1)\n",
    "    else:\n",
    "        target_dataset.append(0)\n",
    "        "
   ]
  },
  {
   "cell_type": "code",
   "execution_count": 45,
   "id": "11feeb73",
   "metadata": {},
   "outputs": [
    {
     "name": "stdout",
     "output_type": "stream",
     "text": [
      "Iter:0 Progress:95.99% Training Accuracy:0.8346666666666667%%\n",
      "Iter:1 Progress:95.99% Training Accuracy:0.8675625%84538445%\n",
      "Test Accuracy:0.845\n"
     ]
    }
   ],
   "source": [
    "import numpy as np\n",
    "import sys\n",
    "np.random.seed(1)\n",
    "\n",
    "def sigmoid(x):\n",
    "    return 1/(1 + np.exp(-x))\n",
    "\n",
    "alpha, iterations = (0.01, 2)\n",
    "hidden_size = 100\n",
    "\n",
    "weights_0_1 = 0.2*np.random.random((len(vocab),hidden_size)) - 0.1\n",
    "weights_1_2 = 0.2*np.random.random((hidden_size,1)) - 0.1\n",
    "\n",
    "correct,total = (0,0)\n",
    "for iter in range(iterations):\n",
    "    \n",
    "    # train on first 24,000\n",
    "    for i in range(len(input_dataset)-1000):\n",
    "\n",
    "        x,y = (input_dataset[i],target_dataset[i])\n",
    "        layer_1 = sigmoid(np.sum(weights_0_1[x],axis=0)) #embed + sigmoid\n",
    "        layer_2 = sigmoid(np.dot(layer_1,weights_1_2)) # linear + softmax\n",
    "\n",
    "        layer_2_delta = layer_2 - y # compare pred with truth\n",
    "        layer_1_delta = layer_2_delta.dot(weights_1_2.T) #backprop\n",
    "\n",
    "        weights_0_1[x] -= layer_1_delta * alpha\n",
    "        weights_1_2 -= np.outer(layer_1,layer_2_delta) * alpha\n",
    "\n",
    "        if(np.abs(layer_2_delta) < 0.5):\n",
    "            correct += 1\n",
    "        total += 1\n",
    "        if(i % 10 == 9):\n",
    "            progress = str(i/float(len(input_dataset)))\n",
    "            \n",
    "            sys.stdout.write('\\rIter:'+str(iter)\\\n",
    "                             +' Progress:'+progress[2:4]\\\n",
    "                             +'.'+progress[4:6]\\\n",
    "                             +'% Training Accuracy:'\\\n",
    "                             + str(correct/float(total)) + '%')\n",
    "    print()\n",
    "correct,total = (0,0)\n",
    "for i in range(len(input_dataset)-1000,len(input_dataset)):\n",
    "\n",
    "    x = input_dataset[i]\n",
    "    y = target_dataset[i]\n",
    "\n",
    "    layer_1 = sigmoid(np.sum(weights_0_1[x],axis=0))\n",
    "    layer_2 = sigmoid(np.dot(layer_1,weights_1_2))\n",
    "    \n",
    "    if(np.abs(layer_2 - y) < 0.5):\n",
    "        correct += 1\n",
    "    total += 1\n",
    "print(\"Test Accuracy:\" + str(correct / float(total)))"
   ]
  },
  {
   "cell_type": "code",
   "execution_count": 49,
   "id": "be89846c",
   "metadata": {},
   "outputs": [],
   "source": [
    "from collections import Counter\n",
    "import math \n",
    "\n",
    "def similar(target='beautiful'):\n",
    "    target_index = word2index[target]\n",
    "    scores = Counter()\n",
    "    for word,index in word2index.items():\n",
    "        raw_difference = weights_0_1[index] - (weights_0_1[target_index])\n",
    "        squared_difference = raw_difference * raw_difference\n",
    "        scores[word] = -math.sqrt(sum(squared_difference))\n",
    "\n",
    "    return scores.most_common(10)"
   ]
  },
  {
   "cell_type": "code",
   "execution_count": 50,
   "id": "3bfa765a",
   "metadata": {},
   "outputs": [
    {
     "name": "stdout",
     "output_type": "stream",
     "text": [
      "[('beautiful', -0.0), ('magic', -0.6860003876370212), ('sent', -0.7380023111650409), ('friendship', -0.7547921878321959), ('superbly', -0.7616060024858399), ('awesome', -0.7713603021761793), ('hilarious', -0.7757668469644036), ('ride', -0.788171403293333), ('thank', -0.7972649245469486), ('episodes', -0.8056853550657797)]\n"
     ]
    }
   ],
   "source": [
    "print(similar('beautiful'))"
   ]
  },
  {
   "cell_type": "code",
   "execution_count": 52,
   "id": "6400c82e",
   "metadata": {},
   "outputs": [
    {
     "data": {
      "text/plain": [
       "93"
      ]
     },
     "execution_count": 52,
     "metadata": {},
     "output_type": "execute_result"
    }
   ],
   "source": [
    "len(input_dataset[0])"
   ]
  },
  {
   "cell_type": "code",
   "execution_count": 55,
   "id": "b05b3a8b",
   "metadata": {},
   "outputs": [
    {
     "data": {
      "text/plain": [
       "array([[-0.00622563,  0.04655057, -0.0966767 , -0.03780697, -0.06259451,\n",
       "        -0.08430637, -0.05914263, -0.03093009, -0.02492853,  0.00841967,\n",
       "        -0.01241428,  0.04135099, -0.05392465,  0.08402988, -0.09835892,\n",
       "         0.03405671, -0.00946867,  0.00774975, -0.06476643, -0.05362676,\n",
       "         0.05133336,  0.09338443, -0.04657866,  0.03560874,  0.07532658,\n",
       "         0.07067494, -0.07568862, -0.08889746, -0.06371385,  0.07126973,\n",
       "        -0.07935867, -0.01156049,  0.09445451,  0.01021923,  0.03060122,\n",
       "        -0.03250844,  0.04234055,  0.06529588, -0.10472489,  0.04446472,\n",
       "         0.09264704,  0.0533342 , -0.04234498,  0.0519071 , -0.08466537,\n",
       "        -0.00213631,  0.08944431, -0.0347825 , -0.04872845, -0.08538279,\n",
       "        -0.09868626,  0.03672784, -0.05941113, -0.05532201, -0.00049988,\n",
       "        -0.09480089,  0.01126013, -0.08154934,  0.01407197,  0.04803115,\n",
       "        -0.07249587, -0.02082742,  0.04027172, -0.01620586, -0.08247723,\n",
       "         0.00130591,  0.02782423,  0.00101702,  0.0912832 ,  0.01912959,\n",
       "         0.07411188, -0.07804852, -0.07455693,  0.06125157, -0.02071031,\n",
       "        -0.05715073,  0.09252103, -0.02074373,  0.05858831,  0.04178074,\n",
       "         0.07603536,  0.01460854,  0.04509954, -0.0321214 , -0.04606787,\n",
       "         0.08467351, -0.01885702,  0.09556317,  0.03841103,  0.02803116,\n",
       "        -0.07985466,  0.08137158, -0.00896538,  0.00905215, -0.02171526,\n",
       "        -0.05590393,  0.0751742 ,  0.02141724, -0.10484048,  0.01713823],\n",
       "       [ 0.09921224,  0.06271073, -0.09092045,  0.04299155, -0.00089496,\n",
       "         0.08770598, -0.05318189, -0.04664719, -0.08728992, -0.01418794,\n",
       "        -0.07560332,  0.03015879,  0.06455267,  0.04541781,  0.05029282,\n",
       "        -0.03158534,  0.07453489, -0.0169597 ,  0.06988262,  0.03016667,\n",
       "        -0.07796009, -0.0847453 , -0.10303226, -0.08878942, -0.00832274,\n",
       "        -0.08389669, -0.08914222,  0.05299597, -0.01945521,  0.0463135 ,\n",
       "        -0.0089971 , -0.00716026, -0.00252573, -0.0023699 ,  0.0550975 ,\n",
       "        -0.01622191,  0.08467873, -0.09403207,  0.04841654, -0.07897871,\n",
       "         0.02013442, -0.09543178,  0.00924547, -0.10371339,  0.08626477,\n",
       "         0.08749804,  0.06521926,  0.08777754, -0.07543888, -0.07713021,\n",
       "        -0.06435745,  0.02529146,  0.07935615,  0.09156281,  0.04300686,\n",
       "         0.04219762,  0.07940474, -0.02800892, -0.05290231, -0.05928289,\n",
       "        -0.07091439,  0.05964272, -0.06984922, -0.04660416,  0.06947348,\n",
       "        -0.04188583,  0.09295082, -0.04831026,  0.00863718, -0.03574029,\n",
       "         0.07732074, -0.03100438, -0.01523906,  0.00219068,  0.08734092,\n",
       "        -0.08669113,  0.04861645,  0.08579321, -0.08853847,  0.00213846,\n",
       "        -0.03534276,  0.06419219,  0.00806863,  0.03690596, -0.00938795,\n",
       "         0.02979359, -0.04508023, -0.09636028,  0.01962331, -0.03523713,\n",
       "         0.00093912,  0.07653163, -0.01390808, -0.05562516, -0.02844943,\n",
       "         0.08407839,  0.08339393,  0.07342216,  0.08051785, -0.05897287]])"
      ]
     },
     "execution_count": 55,
     "metadata": {},
     "output_type": "execute_result"
    }
   ],
   "source": [
    "weights_0_1[[0, 4]]"
   ]
  },
  {
   "cell_type": "code",
   "execution_count": null,
   "id": "9f268c2d",
   "metadata": {},
   "outputs": [],
   "source": []
  }
 ],
 "metadata": {
  "kernelspec": {
   "display_name": "Python 3 (ipykernel)",
   "language": "python",
   "name": "python3"
  },
  "language_info": {
   "codemirror_mode": {
    "name": "ipython",
    "version": 3
   },
   "file_extension": ".py",
   "mimetype": "text/x-python",
   "name": "python",
   "nbconvert_exporter": "python",
   "pygments_lexer": "ipython3",
   "version": "3.9.12"
  }
 },
 "nbformat": 4,
 "nbformat_minor": 5
}
