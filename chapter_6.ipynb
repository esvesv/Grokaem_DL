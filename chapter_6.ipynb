{
 "cells": [
  {
   "cell_type": "code",
   "execution_count": 1,
   "id": "dd4610a5",
   "metadata": {},
   "outputs": [],
   "source": [
    "import numpy as np"
   ]
  },
  {
   "cell_type": "code",
   "execution_count": 2,
   "id": "de313dc5",
   "metadata": {},
   "outputs": [
    {
     "name": "stdout",
     "output_type": "stream",
     "text": [
      "[-0.2]\n",
      "[-0.22]\n",
      "[-0.7]\n",
      "[0.28]\n",
      "[-0.22]\n",
      "[-0.2]\n",
      "[4.0652]\n"
     ]
    }
   ],
   "source": [
    "streetlights = np.array([\n",
    "                    [1, 0, 1],\n",
    "                    [0, 1, 1],\n",
    "                    [0, 0, 1],\n",
    "                    [1, 1, 1],\n",
    "                    [0, 1, 1],\n",
    "                    [1, 0, 1]\n",
    "                            ])\n",
    "\n",
    "walk_vs_stop = np.array([[0],\n",
    "                         [1],\n",
    "                         [0],\n",
    "                         [1],\n",
    "                         [1],\n",
    "                         [0]\n",
    "    \n",
    "                            ]).reshape(-1)\n",
    "\n",
    "weights = np.array([0.5, 0.48, -0.7])\n",
    "lr = 0.1\n",
    "\n",
    "for iteration in range(1):\n",
    "    error_all = 0\n",
    "    for i in range(len(walk_vs_stop)):\n",
    "        prediction = streetlights[i].dot(weights.reshape(-1, 1))\n",
    "        error = (prediction - walk_vs_stop[i]) ** 2\n",
    "        print(prediction)\n",
    "        error_all += error\n",
    "        delta = prediction - walk_vs_stop[i]\n",
    "#         weights -= lr * (streetlights[i] * delta)\n",
    "    \n",
    "#     if iteration % 10 == 0:\n",
    "#         print(f'Error: \\n{error.sum() / len(weights)} \\nPrediction: \\n{prediction}')\n",
    "    print(error_all)"
   ]
  },
  {
   "cell_type": "code",
   "execution_count": 3,
   "id": "4edff295",
   "metadata": {
    "scrolled": true
   },
   "outputs": [
    {
     "name": "stdout",
     "output_type": "stream",
     "text": [
      "[-0.2  -0.22 -0.7   0.28 -0.22 -0.2 ]\n",
      "4.0652\n",
      "[ 0.04028363  0.93076197 -0.13549065  1.10653625  0.93076197  0.04028363]\n",
      "0.042541041870533404\n",
      "[-0.00158342  0.98665678 -0.06984847  1.05492183  0.98665678 -0.00158342]\n",
      "0.008256313792683748\n",
      "[-0.00321616  0.99552114 -0.03600845  1.02831344  0.99552114 -0.00321616]\n",
      "0.002159067174885018\n",
      "[-0.00191569  0.99794873 -0.01856317  1.01459621  0.99794873 -0.00191569]\n",
      "0.0005733956608956122\n"
     ]
    }
   ],
   "source": [
    "streetlights = np.array([\n",
    "                    [1, 0, 1],\n",
    "                    [0, 1, 1],\n",
    "                    [0, 0, 1],\n",
    "                    [1, 1, 1],\n",
    "                    [0, 1, 1],\n",
    "                    [1, 0, 1]\n",
    "                            ])\n",
    "\n",
    "walk_vs_stop = np.array([[0],\n",
    "                         [1],\n",
    "                         [0],\n",
    "                         [1],\n",
    "                         [1],\n",
    "                         [0]\n",
    "    \n",
    "                            ]).reshape(-1)\n",
    "\n",
    "weights = np.array([0.5, 0.48, -0.7])\n",
    "lr = 0.1\n",
    "\n",
    "for iteration in range(50):\n",
    "    error_all = 0\n",
    "    prediction = streetlights.dot(weights)\n",
    "    error = ((prediction - walk_vs_stop) ** 2).sum()\n",
    "    delta = prediction - walk_vs_stop\n",
    "    weights_delta = delta.dot(streetlights)\n",
    "    weights -= lr * weights_delta\n",
    "\n",
    "    if iteration % 10 == 0:\n",
    "        print(prediction)\n",
    "        print(error)"
   ]
  },
  {
   "cell_type": "code",
   "execution_count": 4,
   "id": "db24cb65",
   "metadata": {},
   "outputs": [
    {
     "data": {
      "text/plain": [
       "array([ 0.00855448,  1.00853992, -0.00956973])"
      ]
     },
     "execution_count": 4,
     "metadata": {},
     "output_type": "execute_result"
    }
   ],
   "source": [
    "weights"
   ]
  },
  {
   "cell_type": "markdown",
   "id": "269d4a9e",
   "metadata": {},
   "source": [
    "## Глубокая нейронная сеть"
   ]
  },
  {
   "cell_type": "code",
   "execution_count": 17,
   "id": "1c89e452",
   "metadata": {},
   "outputs": [],
   "source": [
    "import numpy as np"
   ]
  },
  {
   "cell_type": "code",
   "execution_count": 20,
   "id": "ab49744b",
   "metadata": {},
   "outputs": [
    {
     "name": "stdout",
     "output_type": "stream",
     "text": [
      "Error: 0.6342311598444467\n",
      "Error: 0.35838407676317513\n",
      "Error: 0.0830183113303298\n",
      "Error: 0.006467054957103705\n",
      "Error: 0.0003292669000750734\n",
      "Error: 1.5055622665134859e-05\n"
     ]
    }
   ],
   "source": [
    "np.random.seed(1)\n",
    "\n",
    "def relu(x):\n",
    "    return (x > 0) * x\n",
    "\n",
    "def relu2deriv(output):\n",
    "    return output > 0\n",
    "\n",
    "lr = 0.2\n",
    "hidden_size = 4\n",
    "\n",
    "streetlights = np.array([\n",
    "                    [1, 0, 1],\n",
    "                    [0, 1, 1],\n",
    "                    [0, 0, 1],\n",
    "                    [1, 1, 1]\n",
    "                            ])\n",
    "\n",
    "walk_vs_stop = np.array([[1, 1, 0, 0]]).T\n",
    "\n",
    "weights_0_1 = 2 * np.random.random((3, hidden_size)) - 1\n",
    "weights_1_2  = 2 * np.random.random((hidden_size, 1)) - 1\n",
    "\n",
    "for iteration in range(60):\n",
    "    layer_2_error = 0\n",
    "    for i in range(streetlights.shape[0]):\n",
    "        layer_0 = streetlights[i].reshape(1, -1)\n",
    "        layer_1 = relu(layer_0.dot(weights_0_1))\n",
    "        layer_2 = layer_1.dot(weights_1_2)\n",
    "\n",
    "        layer_2_error += ((layer_2 - walk_vs_stop[i].reshape(1, -1))**2).sum()\n",
    "        \n",
    "        layer_2_delta = (walk_vs_stop[i].reshape(1, -1) - layer_2)\n",
    "        layer_1_delta = layer_2_delta.dot(weights_1_2.T) * relu2deriv(layer_1)\n",
    "        \n",
    "        weights_1_2 += lr * layer_1.T.dot(layer_2_delta)\n",
    "        weights_0_1 += lr * layer_0.T.dot(layer_1_delta)\n",
    "#         break\n",
    "    if iteration % 10 == 9:\n",
    "        print(f'Error: {layer_2_error}')"
   ]
  },
  {
   "cell_type": "markdown",
   "id": "db27d488",
   "metadata": {},
   "source": [
    "## Воспроизведение трехслойной нейронной сети по памяти"
   ]
  },
  {
   "cell_type": "code",
   "execution_count": 75,
   "id": "7ff603e4",
   "metadata": {},
   "outputs": [
    {
     "name": "stdout",
     "output_type": "stream",
     "text": [
      "Error: 0.6342311598444467\n",
      "Error: 0.35838407676317513\n",
      "Error: 0.0830183113303298\n",
      "Error: 0.006467054957103705\n",
      "Error: 0.0003292669000750734\n",
      "Error: 1.5055622665134859e-05\n"
     ]
    }
   ],
   "source": [
    "import numpy as np\n",
    "np.random.seed(1)\n",
    "\n",
    "def relu(x):\n",
    "    return (x > 0) * x\n",
    "\n",
    "def relu2deriv(output):\n",
    "    return output > 0\n",
    "\n",
    "lr = 0.2\n",
    "hidden_size = 4\n",
    "\n",
    "streetlights = np.array([\n",
    "                    [1, 0, 1],\n",
    "                    [0, 1, 1],\n",
    "                    [0, 0, 1],\n",
    "                    [1, 1, 1]\n",
    "                            ])\n",
    "\n",
    "walk_vs_stop = np.array([[1, 1, 0, 0]]).T\n",
    "\n",
    "weights_0_1 = 2 * np.random.random((3, hidden_size)) - 1\n",
    "weights_1_2 = 2 * np.random.random((hidden_size, 1)) - 1\n",
    "\n",
    "for iteration in range(60):\n",
    "    layer_2_error = 0\n",
    "    for i in range(streetlights.shape[0]):\n",
    "        layer_0 = streetlights[i].reshape(1, -1)\n",
    "        layer_1 = relu(layer_0.dot(weights_0_1))\n",
    "        layer_2 = layer_1.dot(weights_1_2)\n",
    "        layer_2_error += ((layer_2 - walk_vs_stop[i].reshape(1, -1)) ** 2).sum()\n",
    "        \n",
    "        layer_2_delta = layer_2 - walk_vs_stop[i].reshape(1, -1)\n",
    "        layer_1_delta = layer_2_delta.dot(weights_1_2.T) * relu2deriv(layer_1)\n",
    "        \n",
    "        weights_1_2 -= lr * (layer_1.T * layer_2_delta)\n",
    "        weights_0_1 -= lr * (layer_0.T * layer_1_delta)\n",
    "#         break\n",
    "    if iteration % 10 == 9:\n",
    "        print(f'Error: {layer_2_error}')"
   ]
  },
  {
   "cell_type": "code",
   "execution_count": 76,
   "id": "aa78c1de",
   "metadata": {},
   "outputs": [
    {
     "data": {
      "text/plain": [
       "array([[-0.16595599,  0.91056768, -0.99977125, -0.90023925],\n",
       "       [-0.70648822, -0.92794391, -0.62747958,  0.89703458],\n",
       "       [-0.20646505, -0.03308324, -0.16161097,  0.00237016]])"
      ]
     },
     "execution_count": 76,
     "metadata": {},
     "output_type": "execute_result"
    }
   ],
   "source": [
    "weights_0_1"
   ]
  },
  {
   "cell_type": "code",
   "execution_count": 77,
   "id": "b4ee1f31",
   "metadata": {},
   "outputs": [
    {
     "data": {
      "text/plain": [
       "array([[-0.5910955 ],\n",
       "       [ 1.13962134],\n",
       "       [-0.94522481],\n",
       "       [ 1.11023793]])"
      ]
     },
     "execution_count": 77,
     "metadata": {},
     "output_type": "execute_result"
    }
   ],
   "source": [
    "weights_1_2"
   ]
  },
  {
   "cell_type": "code",
   "execution_count": null,
   "id": "83586e5a",
   "metadata": {},
   "outputs": [],
   "source": []
  }
 ],
 "metadata": {
  "kernelspec": {
   "display_name": "Python 3 (ipykernel)",
   "language": "python",
   "name": "python3"
  },
  "language_info": {
   "codemirror_mode": {
    "name": "ipython",
    "version": 3
   },
   "file_extension": ".py",
   "mimetype": "text/x-python",
   "name": "python",
   "nbconvert_exporter": "python",
   "pygments_lexer": "ipython3",
   "version": "3.9.12"
  }
 },
 "nbformat": 4,
 "nbformat_minor": 5
}
