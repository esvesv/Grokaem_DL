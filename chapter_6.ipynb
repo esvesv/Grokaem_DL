{
 "cells": [
  {
   "cell_type": "code",
   "execution_count": 1,
   "id": "dd4610a5",
   "metadata": {},
   "outputs": [],
   "source": [
    "import numpy as np"
   ]
  },
  {
   "cell_type": "code",
   "execution_count": 2,
   "id": "de313dc5",
   "metadata": {},
   "outputs": [
    {
     "name": "stdout",
     "output_type": "stream",
     "text": [
      "[-0.2]\n",
      "[-0.22]\n",
      "[-0.7]\n",
      "[0.28]\n",
      "[-0.22]\n",
      "[-0.2]\n",
      "[4.0652]\n"
     ]
    }
   ],
   "source": [
    "streetlights = np.array([\n",
    "                    [1, 0, 1],\n",
    "                    [0, 1, 1],\n",
    "                    [0, 0, 1],\n",
    "                    [1, 1, 1],\n",
    "                    [0, 1, 1],\n",
    "                    [1, 0, 1]\n",
    "                            ])\n",
    "\n",
    "walk_vs_stop = np.array([[0],\n",
    "                         [1],\n",
    "                         [0],\n",
    "                         [1],\n",
    "                         [1],\n",
    "                         [0]\n",
    "    \n",
    "                            ]).reshape(-1)\n",
    "\n",
    "weights = np.array([0.5, 0.48, -0.7])\n",
    "lr = 0.1\n",
    "\n",
    "for iteration in range(1):\n",
    "    error_all = 0\n",
    "    for i in range(len(walk_vs_stop)):\n",
    "        prediction = streetlights[i].dot(weights.reshape(-1, 1))\n",
    "        error = (prediction - walk_vs_stop[i]) ** 2\n",
    "        print(prediction)\n",
    "        error_all += error\n",
    "        delta = prediction - walk_vs_stop[i]\n",
    "#         weights -= lr * (streetlights[i] * delta)\n",
    "    \n",
    "#     if iteration % 10 == 0:\n",
    "#         print(f'Error: \\n{error.sum() / len(weights)} \\nPrediction: \\n{prediction}')\n",
    "    print(error_all)"
   ]
  },
  {
   "cell_type": "code",
   "execution_count": 3,
   "id": "4edff295",
   "metadata": {
    "scrolled": true
   },
   "outputs": [
    {
     "name": "stdout",
     "output_type": "stream",
     "text": [
      "[-0.2  -0.22 -0.7   0.28 -0.22 -0.2 ]\n",
      "4.0652\n",
      "[ 0.04028363  0.93076197 -0.13549065  1.10653625  0.93076197  0.04028363]\n",
      "0.042541041870533404\n",
      "[-0.00158342  0.98665678 -0.06984847  1.05492183  0.98665678 -0.00158342]\n",
      "0.008256313792683748\n",
      "[-0.00321616  0.99552114 -0.03600845  1.02831344  0.99552114 -0.00321616]\n",
      "0.002159067174885018\n",
      "[-0.00191569  0.99794873 -0.01856317  1.01459621  0.99794873 -0.00191569]\n",
      "0.0005733956608956122\n"
     ]
    }
   ],
   "source": [
    "streetlights = np.array([\n",
    "                    [1, 0, 1],\n",
    "                    [0, 1, 1],\n",
    "                    [0, 0, 1],\n",
    "                    [1, 1, 1],\n",
    "                    [0, 1, 1],\n",
    "                    [1, 0, 1]\n",
    "                            ])\n",
    "\n",
    "walk_vs_stop = np.array([[0],\n",
    "                         [1],\n",
    "                         [0],\n",
    "                         [1],\n",
    "                         [1],\n",
    "                         [0]\n",
    "    \n",
    "                            ]).reshape(-1)\n",
    "\n",
    "weights = np.array([0.5, 0.48, -0.7])\n",
    "lr = 0.1\n",
    "\n",
    "for iteration in range(50):\n",
    "    error_all = 0\n",
    "    prediction = streetlights.dot(weights)\n",
    "    error = ((prediction - walk_vs_stop) ** 2).sum()\n",
    "    delta = prediction - walk_vs_stop\n",
    "    weights_delta = delta.dot(streetlights)\n",
    "    weights -= lr * weights_delta\n",
    "\n",
    "    if iteration % 10 == 0:\n",
    "        print(prediction)\n",
    "        print(error)"
   ]
  },
  {
   "cell_type": "code",
   "execution_count": 5,
   "id": "db24cb65",
   "metadata": {},
   "outputs": [
    {
     "data": {
      "text/plain": [
       "array([ 0.00855448,  1.00853992, -0.00956973])"
      ]
     },
     "execution_count": 5,
     "metadata": {},
     "output_type": "execute_result"
    }
   ],
   "source": [
    "weights"
   ]
  },
  {
   "cell_type": "markdown",
   "id": "269d4a9e",
   "metadata": {},
   "source": [
    "## Глубокая нейронная сеть"
   ]
  },
  {
   "cell_type": "code",
   "execution_count": 76,
   "id": "1c89e452",
   "metadata": {},
   "outputs": [],
   "source": [
    "import numpy as np"
   ]
  },
  {
   "cell_type": "code",
   "execution_count": 84,
   "id": "ab49744b",
   "metadata": {},
   "outputs": [],
   "source": [
    "np.random.seed(1)\n",
    "\n",
    "def relu(x):\n",
    "    return (x > 0) * x\n",
    "\n",
    "def relu2deriv(output):\n",
    "    return output > 0\n",
    "\n",
    "lr = 0.2\n",
    "hidden_size = 4\n",
    "\n",
    "streetlights = np.array([\n",
    "                    [1, 0, 1],\n",
    "                    [0, 1, 1],\n",
    "                    [0, 0, 1],\n",
    "                    [1, 1, 1]\n",
    "                            ])\n",
    "\n",
    "walk_vs_stop = np.array([[1, 1, 0, 0]]).T\n",
    "\n",
    "weights_0_1 = 2 * np.random.random((3, hidden_size)) - 1\n",
    "weights_1_2  = 2 * np.random.random((hidden_size, 1)) - 1\n",
    "\n",
    "for iteration in range(1):\n",
    "    layer_2_error = 0\n",
    "    for i in range(streetlights.shape[0]):\n",
    "        layer_0 = streetlights[i].reshape(1, -1)\n",
    "        layer_1 = relu(layer_0.dot(weights_0_1))\n",
    "        layer_2 = layer_1.dot(weights_1_2)\n",
    "\n",
    "        layer_2_error += ((layer_2 - walk_vs_stop[i].reshape(1, -1))**2).sum()\n",
    "        \n",
    "        layer_2_delta = (walk_vs_stop[i].reshape(1, -1) - layer_2)\n",
    "        layer_1_delta = layer_2_delta.dot(weights_1_2.T) * relu2deriv(layer_1)\n",
    "        \n",
    "        weights_1_2 += lr * layer_1.T.dot(layer_2_delta)\n",
    "        weights_0_1 += lr * layer_0.T.dot(layer_1_delta)\n",
    "        break\n",
    "    if iteration % 10 == 9:\n",
    "        print(f'Error: {layer_2_error}')"
   ]
  },
  {
   "cell_type": "code",
   "execution_count": 86,
   "id": "ba844e76",
   "metadata": {},
   "outputs": [
    {
     "data": {
      "text/plain": [
       "array([[1, 0, 1]])"
      ]
     },
     "execution_count": 86,
     "metadata": {},
     "output_type": "execute_result"
    }
   ],
   "source": [
    "layer_0"
   ]
  },
  {
   "cell_type": "code",
   "execution_count": 87,
   "id": "21402cc9",
   "metadata": {},
   "outputs": [
    {
     "data": {
      "text/plain": [
       "array([[-0.        ,  0.51828245, -0.        , -0.        ]])"
      ]
     },
     "execution_count": 87,
     "metadata": {},
     "output_type": "execute_result"
    }
   ],
   "source": [
    "layer_1"
   ]
  },
  {
   "cell_type": "code",
   "execution_count": 88,
   "id": "84125a70",
   "metadata": {},
   "outputs": [
    {
     "data": {
      "text/plain": [
       "array([[0.39194327]])"
      ]
     },
     "execution_count": 88,
     "metadata": {},
     "output_type": "execute_result"
    }
   ],
   "source": [
    "layer_2"
   ]
  },
  {
   "cell_type": "code",
   "execution_count": 89,
   "id": "46f9c636",
   "metadata": {},
   "outputs": [
    {
     "data": {
      "text/plain": [
       "0.3697329913497495"
      ]
     },
     "execution_count": 89,
     "metadata": {},
     "output_type": "execute_result"
    }
   ],
   "source": [
    "layer_2_error"
   ]
  },
  {
   "cell_type": "code",
   "execution_count": 90,
   "id": "be76077b",
   "metadata": {},
   "outputs": [
    {
     "data": {
      "text/plain": [
       "array([[0.60805673]])"
      ]
     },
     "execution_count": 90,
     "metadata": {},
     "output_type": "execute_result"
    }
   ],
   "source": [
    "layer_2_delta"
   ]
  },
  {
   "cell_type": "code",
   "execution_count": 91,
   "id": "12c94fe2",
   "metadata": {},
   "outputs": [
    {
     "data": {
      "text/plain": [
       "array([[-0.        ,  0.45983371, -0.        ,  0.        ]])"
      ]
     },
     "execution_count": 91,
     "metadata": {},
     "output_type": "execute_result"
    }
   ],
   "source": [
    "layer_1_delta"
   ]
  },
  {
   "cell_type": "code",
   "execution_count": 92,
   "id": "98c305c2",
   "metadata": {},
   "outputs": [
    {
     "data": {
      "text/plain": [
       "array([[-0.5910955 ],\n",
       "       [ 0.8192639 ],\n",
       "       [-0.94522481],\n",
       "       [ 0.34093502]])"
      ]
     },
     "execution_count": 92,
     "metadata": {},
     "output_type": "execute_result"
    }
   ],
   "source": [
    "weights_1_2"
   ]
  },
  {
   "cell_type": "code",
   "execution_count": 93,
   "id": "74d16dea",
   "metadata": {},
   "outputs": [
    {
     "data": {
      "text/plain": [
       "array([[-0.16595599,  0.53261573, -0.99977125, -0.39533485],\n",
       "       [-0.70648822, -0.81532281, -0.62747958, -0.30887855],\n",
       "       [-0.20646505,  0.16960021, -0.16161097,  0.370439  ]])"
      ]
     },
     "execution_count": 93,
     "metadata": {},
     "output_type": "execute_result"
    }
   ],
   "source": [
    "weights_0_1"
   ]
  },
  {
   "cell_type": "code",
   "execution_count": null,
   "id": "3aad5c15",
   "metadata": {},
   "outputs": [],
   "source": [
    "160"
   ]
  }
 ],
 "metadata": {
  "kernelspec": {
   "display_name": "Python 3 (ipykernel)",
   "language": "python",
   "name": "python3"
  },
  "language_info": {
   "codemirror_mode": {
    "name": "ipython",
    "version": 3
   },
   "file_extension": ".py",
   "mimetype": "text/x-python",
   "name": "python",
   "nbconvert_exporter": "python",
   "pygments_lexer": "ipython3",
   "version": "3.9.12"
  }
 },
 "nbformat": 4,
 "nbformat_minor": 5
}
