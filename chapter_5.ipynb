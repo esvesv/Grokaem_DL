{
 "cells": [
  {
   "cell_type": "markdown",
   "id": "d5f7388a",
   "metadata": {},
   "source": [
    "## Градиентный спуск с несколькими входами и одним выходом"
   ]
  },
  {
   "cell_type": "code",
   "execution_count": 1,
   "id": "02556b75",
   "metadata": {},
   "outputs": [
    {
     "name": "stdout",
     "output_type": "stream",
     "text": [
      "Error: 0.01959999999999997 Prediction: 0.8600000000000001\n",
      "Weights: [ 0.1119   0.20091 -0.09832]\n",
      "Weights deltas: [-1.19  -0.091 -0.168]\n"
     ]
    }
   ],
   "source": [
    "import numpy as np\n",
    "toes = np.array([8.5, 9.5, 9.9, 9.0])\n",
    "wlrec = np.array([0.65, 0.8, 0.8, 0.9])\n",
    "nfans = np.array([1.2, 1.3, 0.5, 1.0])\n",
    "lr = 0.01\n",
    "\n",
    "weights = np.array([0.1, 0.2, -0.1]).T\n",
    "\n",
    "goal_pred = np.array([1, 1, 0, 1])\n",
    "goal = goal_pred[0]\n",
    "\n",
    "input_ = np.array([toes[0], wlrec[0], nfans[0]])\n",
    "\n",
    "def neural_network(input_, weights):\n",
    "    pred = input_.dot(weights)\n",
    "    return pred\n",
    "for  iteration in range(1):\n",
    "    pred = neural_network(input_, weights)\n",
    "    error = (pred - goal) ** 2\n",
    "    delta = pred - goal\n",
    "    weights_deltas = input_.dot(delta)\n",
    "#     weights_deltas[0] = 0 # заморозили первый вес\n",
    "    weights -= lr * weights_deltas\n",
    "    print(f'Error: {error} Prediction: {pred}')\n",
    "print(f'Weights: {weights}')\n",
    "print(f'Weights deltas: {weights_deltas}')"
   ]
  },
  {
   "cell_type": "markdown",
   "id": "7e8ad839",
   "metadata": {},
   "source": [
    "## Градиентный спуск с несколькими выходами"
   ]
  },
  {
   "cell_type": "markdown",
   "id": "394d1303",
   "metadata": {},
   "source": [
    "#### Чистая сеть с одним входом и несколькими выходами"
   ]
  },
  {
   "cell_type": "code",
   "execution_count": 2,
   "id": "85ecb960",
   "metadata": {},
   "outputs": [
    {
     "name": "stdout",
     "output_type": "stream",
     "text": [
      "Weights: [0.293825 0.25655  0.868475]\n",
      "Weights_deltas: [ 0.06175 -0.5655   0.31525]\n"
     ]
    }
   ],
   "source": [
    "import numpy as np\n",
    "\n",
    "weights = np.array([0.3, 0.2, 0.9])\n",
    "\n",
    "inputs = np.array([0.65, 1.0, 1.0, 0.9])\n",
    "\n",
    "hurt = np.array([0.1, 0.0, 0.0, 0.1])\n",
    "win = np.array([1, 1, 0, 1])\n",
    "sad = np.array([0.1, 0.0, 0.1, 0.2])\n",
    "\n",
    "lr = 0.1\n",
    "\n",
    "def neural_network(input_, weights):\n",
    "    pred = weights.dot(input_)\n",
    "    return pred\n",
    "\n",
    "input_ = inputs[0]\n",
    "goal = np.array([hurt[0], win[0], sad[0]])\n",
    "\n",
    "pred = neural_network(input_, weights)\n",
    "error = (pred - goal) ** 2\n",
    "delta = pred - goal\n",
    "weights_deltas = input_ * delta\n",
    "\n",
    "weights -= lr * weights_deltas\n",
    "\n",
    "# print(f'Error: {error} Delta: {delta} Prediction: {pred}')\n",
    "print(f'Weights: {weights}')\n",
    "print(f'Weights_deltas: {weights_deltas}')"
   ]
  },
  {
   "cell_type": "markdown",
   "id": "ff24304b",
   "metadata": {},
   "source": [
    "## Градиентный спуск с несколькими входами и выходами"
   ]
  },
  {
   "cell_type": "code",
   "execution_count": 3,
   "id": "4ae0fa68",
   "metadata": {},
   "outputs": [
    {
     "name": "stdout",
     "output_type": "stream",
     "text": [
      "Input: [8.5  0.65 1.2 ]\n",
      "Goal: [0.1 1.  0.1]\n",
      "Prediction: [0.555 0.98  0.965]\n",
      "Error: [2.07025e-01 4.00000e-04 7.48225e-01] \n",
      "Delta: [ 0.455 -0.02   0.865]\n",
      "Weight deltas: [[ 3.8675   0.29575  0.546  ]\n",
      " [-0.17    -0.013   -0.024  ]\n",
      " [ 7.3525   0.56225  1.038  ]]\n"
     ]
    }
   ],
   "source": [
    "import numpy as np\n",
    "\n",
    "weights = np.array([[0.1, 0.1, -0.3],\n",
    "                    [0.1, 0.2, 0.0],\n",
    "                    [0.0, 1.3, 0.1]])\n",
    "\n",
    "toes = np.array([8.5, 9.5, 9.9, 9.0])\n",
    "wlrec = np.array([0.65, 0.8, 0.8, 0.9])\n",
    "nfans = np.array([1.2, 1.3, 0.5, 1.0])\n",
    "\n",
    "hurt = np.array([0.1, 0.0, 0.0, 0.1])\n",
    "win = np.array([1, 1, 0, 1])\n",
    "sad = np.array([0.1, 0.0, 0.1, 0.2])\n",
    "\n",
    "lr = 0.01\n",
    "\n",
    "input_ = np.array([toes[0], wlrec[0], nfans[0]])\n",
    "output_ = np.array([hurt[0], win[0], sad[0]])\n",
    "\n",
    "def neural_network(input_, weights):\n",
    "    pred = input_.dot(weights)\n",
    "    return pred\n",
    "\n",
    "pred = neural_network(input_, weights.T)\n",
    "error = (pred - output_) ** 2\n",
    "delta = pred - output_\n",
    "\n",
    "weights_deltas = input_ * delta.reshape(3, 1)\n",
    "\n",
    "weights -= lr * weights_deltas\n",
    "print(f'Input: {input_}')\n",
    "print(f'Goal: {output_}')\n",
    "print(f'Prediction: {pred}')\n",
    "print(f'Error: {error} ')\n",
    "print(f'Delta: {delta}')\n",
    "print(f'Weight deltas: {weights_deltas}')"
   ]
  },
  {
   "cell_type": "code",
   "execution_count": 4,
   "id": "6bf14eb7",
   "metadata": {},
   "outputs": [
    {
     "data": {
      "text/plain": [
       "array([[ 6.1325000e-02,  9.7042500e-02, -3.0546000e-01],\n",
       "       [ 1.0170000e-01,  2.0013000e-01,  2.4000000e-04],\n",
       "       [-7.3525000e-02,  1.2943775e+00,  8.9620000e-02]])"
      ]
     },
     "execution_count": 4,
     "metadata": {},
     "output_type": "execute_result"
    }
   ],
   "source": [
    "weights"
   ]
  },
  {
   "cell_type": "code",
   "execution_count": null,
   "id": "05f42429",
   "metadata": {},
   "outputs": [],
   "source": []
  }
 ],
 "metadata": {
  "kernelspec": {
   "display_name": "Python 3 (ipykernel)",
   "language": "python",
   "name": "python3"
  },
  "language_info": {
   "codemirror_mode": {
    "name": "ipython",
    "version": 3
   },
   "file_extension": ".py",
   "mimetype": "text/x-python",
   "name": "python",
   "nbconvert_exporter": "python",
   "pygments_lexer": "ipython3",
   "version": "3.9.12"
  }
 },
 "nbformat": 4,
 "nbformat_minor": 5
}
